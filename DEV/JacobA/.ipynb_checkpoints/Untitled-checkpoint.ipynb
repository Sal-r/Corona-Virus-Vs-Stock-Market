{
 "cells": [
  {
   "cell_type": "markdown",
   "metadata": {},
   "source": [
    "## Data Collecting"
   ]
  },
  {
   "cell_type": "code",
   "execution_count": 7,
   "metadata": {},
   "outputs": [],
   "source": [
    "import pandas as pd\n",
    "import requests\n",
    "import matplotlib.pyplot as plt\n",
    "from alpha_api import api_key\n",
    "import json\n",
    "from pprint import pprint"
   ]
  },
  {
   "cell_type": "code",
   "execution_count": 4,
   "metadata": {},
   "outputs": [
    {
     "data": {
      "text/plain": [
       "<Response [200]>"
      ]
     },
     "execution_count": 4,
     "metadata": {},
     "output_type": "execute_result"
    }
   ],
   "source": [
    "Entertainment_Tickers = [NFLX, ATVI, DIS, AMC, HAS] \n",
    "Food_Tickers = [KO, BUD, PEP, GIS, MCD]\n",
    "Essentials_Tickers = [CLX, PG, CL, CVS, JNJ]\n",
    "\n",
    "file_path = \"raw_data/daily_\"\n",
    "\n",
    "for tick in Entertainment_Tickers   \n",
    "    url = file_path + tick + \".csv\"\n",
    "    entertainment_df = pd.read_csv"
   ]
  },
  {
   "cell_type": "code",
   "execution_count": 10,
   "metadata": {},
   "outputs": [
    {
     "name": "stdout",
     "output_type": "stream",
     "text": [
      "{'Error Message': 'Invalid API call. Please retry or visit the documentation '\n",
      "                  '(https://www.alphavantage.co/documentation/) for '\n",
      "                  'TIME_SERIES_DAILY.'}\n"
     ]
    }
   ],
   "source": [
    "response = requests.get(\"https://www.alphavantage.co/query?function=TIME_SERIES_DAILY&symbol=CL.1&outputsize=full&apikey=A0DF51WHUDBQ8UOH\").json()\n",
    "pprint(response)"
   ]
  }
 ],
 "metadata": {
  "kernelspec": {
   "display_name": "Python 3",
   "language": "python",
   "name": "python3"
  },
  "language_info": {
   "codemirror_mode": {
    "name": "ipython",
    "version": 3
   },
   "file_extension": ".py",
   "mimetype": "text/x-python",
   "name": "python",
   "nbconvert_exporter": "python",
   "pygments_lexer": "ipython3",
   "version": "3.7.4"
  }
 },
 "nbformat": 4,
 "nbformat_minor": 2
}
