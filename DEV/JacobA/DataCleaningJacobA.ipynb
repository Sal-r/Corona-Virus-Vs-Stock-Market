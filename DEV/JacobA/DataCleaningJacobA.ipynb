{
 "cells": [
  {
   "cell_type": "markdown",
   "metadata": {},
   "source": [
    "## Data Collecting"
   ]
  },
  {
   "cell_type": "code",
   "execution_count": 1,
   "metadata": {},
   "outputs": [],
   "source": [
    "import pandas as pd\n",
    "from alpha_vantage.timeseries import TimeSeries\n",
    "import matplotlib.pyplot as plt\n",
    "from alpha_api import api_key\n",
    "import json\n",
    "from pprint import pprint\n",
    "\n",
    "ts = TimeSeries(key=api_key)"
   ]
  },
  {
   "cell_type": "code",
   "execution_count": 2,
   "metadata": {},
   "outputs": [],
   "source": [
    "# Initialize List with the tickers of the chosen stocks\n",
    "stocks = [\"NFLX\", \"ATVI\", \"DIS\", \"AMC\", \"HAS\", \"KO\", \"BUD\", \"PEP\", \"GIS\", \"MCD\", \"CLX\", \"PG\", \"CL\", \"CVS\", \"JNJ\"]"
   ]
  },
  {
   "cell_type": "code",
   "execution_count": 3,
   "metadata": {},
   "outputs": [
    {
     "ename": "ValueError",
     "evalue": "Thank you for using Alpha Vantage! Our standard API call frequency is 5 calls per minute and 500 calls per day. Please visit https://www.alphavantage.co/premium/ if you would like to target a higher API call frequency.",
     "output_type": "error",
     "traceback": [
      "\u001b[1;31m---------------------------------------------------------------------------\u001b[0m",
      "\u001b[1;31mValueError\u001b[0m                                Traceback (most recent call last)",
      "\u001b[1;32m<ipython-input-3-843c00124ea8>\u001b[0m in \u001b[0;36m<module>\u001b[1;34m\u001b[0m\n\u001b[0;32m      4\u001b[0m \u001b[1;31m# iterate through list and call the ts.get_daily() for each stock inside the stocks list and store list in the dictionary\u001b[0m\u001b[1;33m\u001b[0m\u001b[1;33m\u001b[0m\u001b[1;33m\u001b[0m\u001b[0m\n\u001b[0;32m      5\u001b[0m \u001b[1;32mfor\u001b[0m \u001b[0mstock\u001b[0m \u001b[1;32min\u001b[0m \u001b[0mstocks\u001b[0m\u001b[1;33m:\u001b[0m\u001b[1;33m\u001b[0m\u001b[1;33m\u001b[0m\u001b[0m\n\u001b[1;32m----> 6\u001b[1;33m     \u001b[0mdata\u001b[0m\u001b[1;33m,\u001b[0m \u001b[0mmeta_data\u001b[0m \u001b[1;33m=\u001b[0m \u001b[0mts\u001b[0m\u001b[1;33m.\u001b[0m\u001b[0mget_daily\u001b[0m\u001b[1;33m(\u001b[0m\u001b[0mstock\u001b[0m\u001b[1;33m,\u001b[0m \u001b[0moutputsize\u001b[0m\u001b[1;33m=\u001b[0m\u001b[1;34m\"full\"\u001b[0m\u001b[1;33m)\u001b[0m\u001b[1;33m\u001b[0m\u001b[1;33m\u001b[0m\u001b[0m\n\u001b[0m\u001b[0;32m      7\u001b[0m     \u001b[0mstocks_dictionary_list\u001b[0m\u001b[1;33m[\u001b[0m\u001b[0mstock\u001b[0m\u001b[1;33m]\u001b[0m \u001b[1;33m=\u001b[0m \u001b[0mdata\u001b[0m\u001b[1;33m\u001b[0m\u001b[1;33m\u001b[0m\u001b[0m\n\u001b[0;32m      8\u001b[0m \u001b[1;33m\u001b[0m\u001b[0m\n",
      "\u001b[1;32m~\\Anaconda3\\lib\\site-packages\\alpha_vantage\\alphavantage.py\u001b[0m in \u001b[0;36m_format_wrapper\u001b[1;34m(self, *args, **kwargs)\u001b[0m\n\u001b[0;32m    172\u001b[0m         \u001b[1;32mdef\u001b[0m \u001b[0m_format_wrapper\u001b[0m\u001b[1;33m(\u001b[0m\u001b[0mself\u001b[0m\u001b[1;33m,\u001b[0m \u001b[1;33m*\u001b[0m\u001b[0margs\u001b[0m\u001b[1;33m,\u001b[0m \u001b[1;33m**\u001b[0m\u001b[0mkwargs\u001b[0m\u001b[1;33m)\u001b[0m\u001b[1;33m:\u001b[0m\u001b[1;33m\u001b[0m\u001b[1;33m\u001b[0m\u001b[0m\n\u001b[0;32m    173\u001b[0m             call_response, data_key, meta_data_key = func(\n\u001b[1;32m--> 174\u001b[1;33m                 self, *args, **kwargs)\n\u001b[0m\u001b[0;32m    175\u001b[0m             \u001b[1;32mif\u001b[0m \u001b[1;34m'json'\u001b[0m \u001b[1;32min\u001b[0m \u001b[0mself\u001b[0m\u001b[1;33m.\u001b[0m\u001b[0moutput_format\u001b[0m\u001b[1;33m.\u001b[0m\u001b[0mlower\u001b[0m\u001b[1;33m(\u001b[0m\u001b[1;33m)\u001b[0m \u001b[1;32mor\u001b[0m \u001b[1;34m'pandas'\u001b[0m\u001b[0;31m \u001b[0m\u001b[0;31m\\\u001b[0m\u001b[1;33m\u001b[0m\u001b[1;33m\u001b[0m\u001b[0m\n\u001b[0;32m    176\u001b[0m                     \u001b[1;32min\u001b[0m \u001b[0mself\u001b[0m\u001b[1;33m.\u001b[0m\u001b[0moutput_format\u001b[0m\u001b[1;33m.\u001b[0m\u001b[0mlower\u001b[0m\u001b[1;33m(\u001b[0m\u001b[1;33m)\u001b[0m\u001b[1;33m:\u001b[0m\u001b[1;33m\u001b[0m\u001b[1;33m\u001b[0m\u001b[0m\n",
      "\u001b[1;32m~\\Anaconda3\\lib\\site-packages\\alpha_vantage\\alphavantage.py\u001b[0m in \u001b[0;36m_call_wrapper\u001b[1;34m(self, *args, **kwargs)\u001b[0m\n\u001b[0;32m    157\u001b[0m             \u001b[1;32melse\u001b[0m\u001b[1;33m:\u001b[0m\u001b[1;33m\u001b[0m\u001b[1;33m\u001b[0m\u001b[0m\n\u001b[0;32m    158\u001b[0m                 \u001b[0murl\u001b[0m \u001b[1;33m=\u001b[0m \u001b[1;34m'{}{}'\u001b[0m\u001b[1;33m.\u001b[0m\u001b[0mformat\u001b[0m\u001b[1;33m(\u001b[0m\u001b[0murl\u001b[0m\u001b[1;33m,\u001b[0m \u001b[0mapikey_parameter\u001b[0m\u001b[1;33m)\u001b[0m\u001b[1;33m\u001b[0m\u001b[1;33m\u001b[0m\u001b[0m\n\u001b[1;32m--> 159\u001b[1;33m             \u001b[1;32mreturn\u001b[0m \u001b[0mself\u001b[0m\u001b[1;33m.\u001b[0m\u001b[0m_handle_api_call\u001b[0m\u001b[1;33m(\u001b[0m\u001b[0murl\u001b[0m\u001b[1;33m)\u001b[0m\u001b[1;33m,\u001b[0m \u001b[0mdata_key\u001b[0m\u001b[1;33m,\u001b[0m \u001b[0mmeta_data_key\u001b[0m\u001b[1;33m\u001b[0m\u001b[1;33m\u001b[0m\u001b[0m\n\u001b[0m\u001b[0;32m    160\u001b[0m         \u001b[1;32mreturn\u001b[0m \u001b[0m_call_wrapper\u001b[0m\u001b[1;33m\u001b[0m\u001b[1;33m\u001b[0m\u001b[0m\n\u001b[0;32m    161\u001b[0m \u001b[1;33m\u001b[0m\u001b[0m\n",
      "\u001b[1;32m~\\Anaconda3\\lib\\site-packages\\alpha_vantage\\alphavantage.py\u001b[0m in \u001b[0;36m_handle_api_call\u001b[1;34m(self, url)\u001b[0m\n\u001b[0;32m    294\u001b[0m                 \u001b[1;32mraise\u001b[0m \u001b[0mValueError\u001b[0m\u001b[1;33m(\u001b[0m\u001b[0mjson_response\u001b[0m\u001b[1;33m[\u001b[0m\u001b[1;34m\"Information\"\u001b[0m\u001b[1;33m]\u001b[0m\u001b[1;33m)\u001b[0m\u001b[1;33m\u001b[0m\u001b[1;33m\u001b[0m\u001b[0m\n\u001b[0;32m    295\u001b[0m             \u001b[1;32melif\u001b[0m \u001b[1;34m\"Note\"\u001b[0m \u001b[1;32min\u001b[0m \u001b[0mjson_response\u001b[0m \u001b[1;32mand\u001b[0m \u001b[0mself\u001b[0m\u001b[1;33m.\u001b[0m\u001b[0mtreat_info_as_error\u001b[0m\u001b[1;33m:\u001b[0m\u001b[1;33m\u001b[0m\u001b[1;33m\u001b[0m\u001b[0m\n\u001b[1;32m--> 296\u001b[1;33m                 \u001b[1;32mraise\u001b[0m \u001b[0mValueError\u001b[0m\u001b[1;33m(\u001b[0m\u001b[0mjson_response\u001b[0m\u001b[1;33m[\u001b[0m\u001b[1;34m\"Note\"\u001b[0m\u001b[1;33m]\u001b[0m\u001b[1;33m)\u001b[0m\u001b[1;33m\u001b[0m\u001b[1;33m\u001b[0m\u001b[0m\n\u001b[0m\u001b[0;32m    297\u001b[0m             \u001b[1;32mreturn\u001b[0m \u001b[0mjson_response\u001b[0m\u001b[1;33m\u001b[0m\u001b[1;33m\u001b[0m\u001b[0m\n\u001b[0;32m    298\u001b[0m         \u001b[1;32melse\u001b[0m\u001b[1;33m:\u001b[0m\u001b[1;33m\u001b[0m\u001b[1;33m\u001b[0m\u001b[0m\n",
      "\u001b[1;31mValueError\u001b[0m: Thank you for using Alpha Vantage! Our standard API call frequency is 5 calls per minute and 500 calls per day. Please visit https://www.alphavantage.co/premium/ if you would like to target a higher API call frequency."
     ]
    }
   ],
   "source": [
    "# Create dictionary to store stocks with their data\n",
    "stocks_dictionary_list = {}\n",
    "\n",
    "# iterate through list and call the ts.get_daily() for each stock inside the stocks list and store list in the dictionary  \n",
    "for stock in stocks:\n",
    "    data, meta_data = ts.get_daily(stock, outputsize=\"full\")\n",
    "    stocks_dictionary_list[stock] = data\n",
    "    \n",
    "# intialize list \n",
    "stock_list = []\n",
    "\n",
    "\"\"\"We have to store info in a way that retains the name, date, and stock information in a format that can be fed into the pandas dataframe without losing it's order, so we do the below\"\"\"\n",
    "# iterate through each stocks dictionary\n",
    "for stock, value in stocks_dictionary_list.items():\n",
    "    # Inside the stocks value is a dictionary with date as the key and the open-volume numbers as the dictionary, so iterate through the value dictionary\n",
    "    for date, info in value.items():\n",
    "        # store the date, stock, and info within the dictionary into a tuple and append to the stock_list\n",
    "        stock_list.append((date, stock, info['1. open'], info['2. high'], info['3. low'], info['4. close'], info['5. volume']))\n",
    "        \n",
    "# Store each column into a list\n",
    "dates = [date[0] for date in stock_list]\n",
    "stock = [stock[1] for stock in stock_list]\n",
    "open_s = [open_s[2] for open_s in stock_list]\n",
    "high_s = [high_s[3] for high_s in stock_list]\n",
    "low_s = [low_s[4] for low_s in stock_list]\n",
    "close_s = [close_s[5] for close_s in stock_list]\n",
    "volume_s = [volume_s[6] for volume_s in stock_list]\n",
    "\n",
    "# Create a dictionary with each key have its value as a list of their respective data\n",
    "final_dictionary = {'dates': dates, 'stock': stock, 'open': open_s, 'close': close_s, 'high': high_s, 'low': low_s, 'close': close_s, 'volume': volume_s}\n",
    "\n",
    "# store into dateframe\n",
    "raw_df = pd.DataFrame(data=final_dictionary)\n"
   ]
  },
  {
   "cell_type": "code",
   "execution_count": null,
   "metadata": {},
   "outputs": [],
   "source": [
    "# Create DataFrames for individual Entertainment stocks\n",
    "raw_nflx_df = raw_df.loc[raw_df[\"stock\"] == \"NFLX\"]\n",
    "raw_atvi_df = raw_df.loc[raw_df[\"stock\"] == \"ATVI\"]\n",
    "raw_dis_df = raw_df.loc[raw_df[\"stock\"] == \"DIS\"]\n",
    "raw_amc_df = raw_df.loc[raw_df[\"stock\"] == \"AMC\"]\n",
    "raw_has_df = raw_df.loc[raw_df[\"stock\"] == \"HAS\"]"
   ]
  },
  {
   "cell_type": "code",
   "execution_count": null,
   "metadata": {},
   "outputs": [],
   "source": [
    "# Create DataFrames for individual Food stocks\n",
    "raw_ko_df = raw_df.loc[raw_df[\"stock\"] == \"KO\"]\n",
    "raw_bud_df = raw_df.loc[raw_df[\"stock\"] == \"BUD\"]\n",
    "raw_pep_df = raw_df.loc[raw_df[\"stock\"] == \"PEP\"]\n",
    "raw_gis_df = raw_df.loc[raw_df[\"stock\"] == \"GIS\"]\n",
    "raw_mcd_df = raw_df.loc[raw_df[\"stock\"] == \"MCD\"]"
   ]
  },
  {
   "cell_type": "code",
   "execution_count": null,
   "metadata": {},
   "outputs": [],
   "source": [
    "# Create DataFrames for individual Essentials stocks\n",
    "raw_clx_df = raw_df.loc[raw_df[\"stock\"] == \"CLX\"]\n",
    "raw_pg_df = raw_df.loc[raw_df[\"stock\"] == \"PG\"]\n",
    "raw_cl_df = raw_df.loc[raw_df[\"stock\"] == \"CL\"]\n",
    "raw_cvs_df = raw_df.loc[raw_df[\"stock\"] == \"CVS\"]\n",
    "raw_jnj_df = raw_df.loc[raw_df[\"stock\"] == \"JNJ\"]"
   ]
  },
  {
   "cell_type": "code",
   "execution_count": null,
   "metadata": {},
   "outputs": [],
   "source": [
    "df_list = [raw_nflx_df, raw_atvi_df, raw_dis_df, raw_amc_df, raw_has_df, raw_ko_df, raw_bud_df, raw_pep_df, raw_gis_df, raw_mcd_df, raw_clx_df, raw_pg_df, raw_cl_df, raw_cvs_df, raw_jnj_df]\n",
    "\n",
    "for x in range (len(df_list)):\n",
    "    df_list[x] = df_list[x].iloc[0:254]\n",
    "    \n",
    "onethird_df = pd.concat(df_list)"
   ]
  },
  {
   "cell_type": "code",
   "execution_count": null,
   "metadata": {},
   "outputs": [],
   "source": [
    "onethird_df"
   ]
  }
 ],
 "metadata": {
  "kernelspec": {
   "display_name": "Python 3",
   "language": "python",
   "name": "python3"
  },
  "language_info": {
   "codemirror_mode": {
    "name": "ipython",
    "version": 3
   },
   "file_extension": ".py",
   "mimetype": "text/x-python",
   "name": "python",
   "nbconvert_exporter": "python",
   "pygments_lexer": "ipython3",
   "version": "3.7.4"
  }
 },
 "nbformat": 4,
 "nbformat_minor": 2
}
