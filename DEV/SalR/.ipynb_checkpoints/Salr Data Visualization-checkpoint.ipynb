{
 "cells": [
  {
   "cell_type": "code",
   "execution_count": 1,
   "metadata": {},
   "outputs": [],
   "source": [
    "#import dependencies\n",
    "import pandas as pd\n",
    "import matplotlib.pyplot as plt\n",
    "import matplotlib.dates as mdates\n",
    "import numpy as np"
   ]
  },
  {
   "cell_type": "code",
   "execution_count": 2,
   "metadata": {},
   "outputs": [
    {
     "name": "stderr",
     "output_type": "stream",
     "text": [
      "/Users/salr/opt/anaconda3/lib/python3.7/site-packages/ipykernel_launcher.py:6: SettingWithCopyWarning: \n",
      "A value is trying to be set on a copy of a slice from a DataFrame.\n",
      "Try using .loc[row_indexer,col_indexer] = value instead\n",
      "\n",
      "See the caveats in the documentation: http://pandas.pydata.org/pandas-docs/stable/user_guide/indexing.html#returning-a-view-versus-a-copy\n",
      "  \n",
      "/Users/salr/opt/anaconda3/lib/python3.7/site-packages/ipykernel_launcher.py:14: SettingWithCopyWarning: \n",
      "A value is trying to be set on a copy of a slice from a DataFrame.\n",
      "Try using .loc[row_indexer,col_indexer] = value instead\n",
      "\n",
      "See the caveats in the documentation: http://pandas.pydata.org/pandas-docs/stable/user_guide/indexing.html#returning-a-view-versus-a-copy\n",
      "  \n",
      "/Users/salr/opt/anaconda3/lib/python3.7/site-packages/ipykernel_launcher.py:17: SettingWithCopyWarning: \n",
      "A value is trying to be set on a copy of a slice from a DataFrame.\n",
      "Try using .loc[row_indexer,col_indexer] = value instead\n",
      "\n",
      "See the caveats in the documentation: http://pandas.pydata.org/pandas-docs/stable/user_guide/indexing.html#returning-a-view-versus-a-copy\n",
      "/Users/salr/opt/anaconda3/lib/python3.7/site-packages/ipykernel_launcher.py:20: SettingWithCopyWarning: \n",
      "A value is trying to be set on a copy of a slice from a DataFrame.\n",
      "Try using .loc[row_indexer,col_indexer] = value instead\n",
      "\n",
      "See the caveats in the documentation: http://pandas.pydata.org/pandas-docs/stable/user_guide/indexing.html#returning-a-view-versus-a-copy\n",
      "/Users/salr/opt/anaconda3/lib/python3.7/site-packages/ipykernel_launcher.py:23: SettingWithCopyWarning: \n",
      "A value is trying to be set on a copy of a slice from a DataFrame.\n",
      "Try using .loc[row_indexer,col_indexer] = value instead\n",
      "\n",
      "See the caveats in the documentation: http://pandas.pydata.org/pandas-docs/stable/user_guide/indexing.html#returning-a-view-versus-a-copy\n",
      "/Users/salr/opt/anaconda3/lib/python3.7/site-packages/ipykernel_launcher.py:26: SettingWithCopyWarning: \n",
      "A value is trying to be set on a copy of a slice from a DataFrame.\n",
      "Try using .loc[row_indexer,col_indexer] = value instead\n",
      "\n",
      "See the caveats in the documentation: http://pandas.pydata.org/pandas-docs/stable/user_guide/indexing.html#returning-a-view-versus-a-copy\n"
     ]
    }
   ],
   "source": [
    "#Read Data\n",
    "\n",
    "full_df = pd.read_csv(\"../../MVP/Data/full_df.csv\")\n",
    "\n",
    "index_df = full_df[full_df['category'] == 'Index']\n",
    "index_df['dates'] = index_df['dates'].astype('datetime64[ns]')\n",
    "\n",
    "dji_df = index_df.loc[index_df['stock'] == 'DJI']\n",
    "inx_df = index_df.loc[index_df['stock'] == '.INX']\n",
    "\n",
    "#ndaq_df = index_df.loc[index_df['stock'] == 'NDAQ'] - NASDAQ NOT AVAILABLE ON ALPHA VANTAGE API.\n",
    "\n",
    "carz_df = full_df.loc[full_df['stock'] == 'CARZ']\n",
    "carz_df['dates'] = carz_df['dates'].astype('datetime64[ns]')\n",
    "\n",
    "ftxg_df = full_df.loc[full_df['stock'] == 'FTXG']\n",
    "ftxg_df['dates'] = ftxg_df['dates'].astype('datetime64[ns]')\n",
    "\n",
    "iyz_df = full_df.loc[full_df['stock'] == 'IYZ']\n",
    "iyz_df['dates'] = iyz_df['dates'].astype('datetime64[ns]')\n",
    "\n",
    "pdbc_df = full_df.loc[full_df['stock'] == 'PDBC']\n",
    "pdbc_df['dates'] = pdbc_df['dates'].astype('datetime64[ns]')\n",
    "\n",
    "xrt_df = full_df.loc[full_df['stock'] == 'XRT']\n",
    "xrt_df['dates'] = xrt_df['dates'].astype('datetime64[ns]')\n"
   ]
  },
  {
   "cell_type": "code",
   "execution_count": 3,
   "metadata": {},
   "outputs": [
    {
     "name": "stderr",
     "output_type": "stream",
     "text": [
      "/Users/salr/opt/anaconda3/lib/python3.7/site-packages/ipykernel_launcher.py:3: SettingWithCopyWarning: \n",
      "A value is trying to be set on a copy of a slice from a DataFrame.\n",
      "Try using .loc[row_indexer,col_indexer] = value instead\n",
      "\n",
      "See the caveats in the documentation: http://pandas.pydata.org/pandas-docs/stable/user_guide/indexing.html#returning-a-view-versus-a-copy\n",
      "  This is separate from the ipykernel package so we can avoid doing imports until\n"
     ]
    },
    {
     "ename": "TypeError",
     "evalue": "only size-1 arrays can be converted to Python scalars",
     "output_type": "error",
     "traceback": [
      "\u001b[0;31m---------------------------------------------------------------------------\u001b[0m",
      "\u001b[0;31mTypeError\u001b[0m                                 Traceback (most recent call last)",
      "\u001b[0;32m<ipython-input-3-c45b2dbc74c0>\u001b[0m in \u001b[0;36m<module>\u001b[0;34m\u001b[0m\n\u001b[1;32m      6\u001b[0m \u001b[0mdji_df\u001b[0m \u001b[0;34m=\u001b[0m \u001b[0mclose_pct\u001b[0m\u001b[0;34m(\u001b[0m\u001b[0mdji_df\u001b[0m\u001b[0;34m)\u001b[0m\u001b[0;34m\u001b[0m\u001b[0;34m\u001b[0m\u001b[0m\n\u001b[1;32m      7\u001b[0m \u001b[0;31m#ndaq_df = close_pct(ndaq_df) - NASDAQ NOT AVAILABLE WITH ALPHA VANTAGE API.\u001b[0m\u001b[0;34m\u001b[0m\u001b[0;34m\u001b[0m\u001b[0;34m\u001b[0m\u001b[0m\n\u001b[0;32m----> 8\u001b[0;31m \u001b[0minx_df\u001b[0m \u001b[0;34m=\u001b[0m \u001b[0mclose_pct\u001b[0m\u001b[0;34m(\u001b[0m\u001b[0minx_df\u001b[0m\u001b[0;34m)\u001b[0m\u001b[0;34m\u001b[0m\u001b[0;34m\u001b[0m\u001b[0m\n\u001b[0m\u001b[1;32m      9\u001b[0m \u001b[0mcarz_df\u001b[0m \u001b[0;34m=\u001b[0m \u001b[0mclose_pct\u001b[0m\u001b[0;34m(\u001b[0m\u001b[0mcarz_df\u001b[0m\u001b[0;34m)\u001b[0m\u001b[0;34m\u001b[0m\u001b[0;34m\u001b[0m\u001b[0m\n\u001b[1;32m     10\u001b[0m \u001b[0mftxg_df\u001b[0m \u001b[0;34m=\u001b[0m \u001b[0mclose_pct\u001b[0m\u001b[0;34m(\u001b[0m\u001b[0mftxg_df\u001b[0m\u001b[0;34m)\u001b[0m\u001b[0;34m\u001b[0m\u001b[0;34m\u001b[0m\u001b[0m\n",
      "\u001b[0;32m<ipython-input-3-c45b2dbc74c0>\u001b[0m in \u001b[0;36mclose_pct\u001b[0;34m(df)\u001b[0m\n\u001b[1;32m      1\u001b[0m \u001b[0;31m#create percentage column\u001b[0m\u001b[0;34m\u001b[0m\u001b[0;34m\u001b[0m\u001b[0;34m\u001b[0m\u001b[0m\n\u001b[1;32m      2\u001b[0m \u001b[0;32mdef\u001b[0m \u001b[0mclose_pct\u001b[0m\u001b[0;34m(\u001b[0m\u001b[0mdf\u001b[0m\u001b[0;34m)\u001b[0m\u001b[0;34m:\u001b[0m\u001b[0;34m\u001b[0m\u001b[0;34m\u001b[0m\u001b[0m\n\u001b[0;32m----> 3\u001b[0;31m     \u001b[0mdf\u001b[0m\u001b[0;34m[\u001b[0m\u001b[0;34m'close_pct'\u001b[0m\u001b[0;34m]\u001b[0m \u001b[0;34m=\u001b[0m \u001b[0mround\u001b[0m\u001b[0;34m(\u001b[0m\u001b[0;36m100\u001b[0m \u001b[0;34m*\u001b[0m \u001b[0;34m(\u001b[0m\u001b[0mdf\u001b[0m\u001b[0;34m[\u001b[0m\u001b[0;34m'close'\u001b[0m\u001b[0;34m]\u001b[0m \u001b[0;34m/\u001b[0m \u001b[0mint\u001b[0m\u001b[0;34m(\u001b[0m\u001b[0mdf\u001b[0m\u001b[0;34m.\u001b[0m\u001b[0mloc\u001b[0m\u001b[0;34m[\u001b[0m\u001b[0mdf\u001b[0m\u001b[0;34m[\u001b[0m\u001b[0;34m'dates'\u001b[0m\u001b[0;34m]\u001b[0m \u001b[0;34m==\u001b[0m\u001b[0;34m'2020-01-28'\u001b[0m\u001b[0;34m]\u001b[0m\u001b[0;34m[\u001b[0m\u001b[0;34m'close'\u001b[0m\u001b[0;34m]\u001b[0m\u001b[0;34m.\u001b[0m\u001b[0mvalues\u001b[0m\u001b[0;34m)\u001b[0m\u001b[0;34m)\u001b[0m\u001b[0;34m,\u001b[0m\u001b[0;36m2\u001b[0m\u001b[0;34m)\u001b[0m\u001b[0;34m\u001b[0m\u001b[0;34m\u001b[0m\u001b[0m\n\u001b[0m\u001b[1;32m      4\u001b[0m     \u001b[0;32mreturn\u001b[0m \u001b[0mdf\u001b[0m\u001b[0;34m\u001b[0m\u001b[0;34m\u001b[0m\u001b[0m\n\u001b[1;32m      5\u001b[0m \u001b[0;34m\u001b[0m\u001b[0m\n",
      "\u001b[0;31mTypeError\u001b[0m: only size-1 arrays can be converted to Python scalars"
     ]
    }
   ],
   "source": [
    "#create percentage column\n",
    "def close_pct(df):\n",
    "    df['close_pct'] = round(100 * (df['close'] / int(df.loc[df['dates'] =='2020-01-28']['close'].values)),2)\n",
    "    return df\n",
    "\n",
    "dji_df = close_pct(dji_df)\n",
    "#ndaq_df = close_pct(ndaq_df) - NASDAQ NOT AVAILABLE WITH ALPHA VANTAGE API.\n",
    "inx_df = close_pct(inx_df)\n",
    "carz_df = close_pct(carz_df)\n",
    "ftxg_df = close_pct(ftxg_df)\n",
    "xrt_df = close_pct(xrt_df)\n",
    "iyz_df = close_pct(iyz_df)\n",
    "pdbc_df = close_pct(pdbc_df)"
   ]
  },
  {
   "cell_type": "code",
   "execution_count": null,
   "metadata": {},
   "outputs": [],
   "source": [
    "#plot function\n",
    "def plot_data(ind_avg, stonk, title):\n",
    "    \n",
    "    #sort ind avg dates\n",
    "    ind_avg = ind_avg.sort_values('dates', ascending=True)\n",
    "    \n",
    "    #filter to crash only\n",
    "    ind_avg_crash = (ind_avg['dates'] >= '2020-01-28')\n",
    "    ind_avg_crash_df = ind_avg.loc[ind_avg_crash]\n",
    "    \n",
    "    #sort stock dates\n",
    "    stonk = stonk.sort_values('dates', ascending=True)\n",
    "    \n",
    "    #filter to crash only\n",
    "    stonk_crash = (stonk['dates'] >= '2020-01-28')\n",
    "    stonk_crash_df = stonk.loc[stonk_crash]\n",
    "\n",
    "    #plot\n",
    "    fig = plt.figure(figsize=(20,10))\n",
    "    \n",
    "    ax = fig.add_subplot(211)\n",
    "    ind_avg_crash_df.plot(y='close_pct', x='dates', kind='line', ax=ax, color='red')\n",
    "    plt.xlabel('Date')\n",
    "    plt.ylabel('Close Percent')\n",
    "    plt.title(title)\n",
    "    plt.grid()\n",
    "    plt.yticks(np.arange(50,110,step=5))\n",
    "\n",
    "    \n",
    "    x_avg = mdates.date2num(ind_avg_crash_df['dates'].tolist())\n",
    "    y_avg = ind_avg_crash_df['close_pct'].tolist()\n",
    "    z_avg = np.polyfit(x_avg, y_avg, 12)\n",
    "    p_avg = np.poly1d(z_avg)\n",
    "    plt.plot(x_avg, p_avg(x_avg), 'r--')\n",
    "    \n",
    "    ax = fig.add_subplot(211)\n",
    "    stonk_crash_df.plot(y='close_pct', x='dates', kind='line', ax=ax, color='blue')\n",
    "    plt.xlabel('Date')\n",
    "    plt.ylabel('Close Percent')\n",
    "    plt.grid()\n",
    "    plt.yticks(np.arange(50,110,step=5))\n",
    "    \n",
    "    x_stonk = mdates.date2num(stonk_crash_df['dates'].tolist())\n",
    "    y_stonk = stonk_crash_df['close_pct'].tolist()\n",
    "    z_stonk = np.polyfit(x_stonk, y_stonk, 12)\n",
    "    p_stonk = np.poly1d(z_stonk)\n",
    "    plt.plot(x_stonk, p_stonk(x_stonk), 'b--')\n",
    "    \n",
    "    \n",
    "    ind_avg_name = \"\".join(ind_avg.stock.unique())\n",
    "    stonk_name = \"\".join(stonk.stock.unique())\n",
    "    \n",
    "    plt.tight_layout()\n",
    "    plt.show()\n",
    "    plt.savefig(title + '.svg')\n",
    "    \n",
    "    return ax"
   ]
  },
  {
   "cell_type": "code",
   "execution_count": null,
   "metadata": {},
   "outputs": [],
   "source": [
    "CARZ_DJI_chart = plot_data(dji_df, carz_df, '2020 CARZ vs DJI Percent Loss')"
   ]
  },
  {
   "cell_type": "code",
   "execution_count": null,
   "metadata": {
    "scrolled": false
   },
   "outputs": [],
   "source": [
    "CARZ_INX_chart = plot_data(inx_df, carz_df, '2020 CARZ vs INX Percent Loss')"
   ]
  },
  {
   "cell_type": "code",
   "execution_count": null,
   "metadata": {},
   "outputs": [],
   "source": [
    "FTXG_DJI_chart = plot_data(dji_df, ftxg_df, '2020 FTXG vs DJI Percent Loss')"
   ]
  },
  {
   "cell_type": "code",
   "execution_count": null,
   "metadata": {},
   "outputs": [],
   "source": [
    "FTXG_INX_chart = plot_data(inx_df, ftxg_df, '2020 FTXG vs INX Percent Loss')"
   ]
  },
  {
   "cell_type": "code",
   "execution_count": null,
   "metadata": {},
   "outputs": [],
   "source": [
    "IYZ_DJI_chart = plot_data(dji_df, iyz_df, '2020 IYZ vs DJI Percent Loss')"
   ]
  },
  {
   "cell_type": "code",
   "execution_count": null,
   "metadata": {},
   "outputs": [],
   "source": [
    "IYZ_INX_chart = plot_data(inx_df, iyz_df, '2020 IYZ vs INX Percent Loss')"
   ]
  },
  {
   "cell_type": "code",
   "execution_count": null,
   "metadata": {},
   "outputs": [],
   "source": [
    "PDBC_DJI_chart = plot_data(pdbc_df, dji_df, '2020 PDBC vs DJI Percent Loss')"
   ]
  },
  {
   "cell_type": "code",
   "execution_count": null,
   "metadata": {},
   "outputs": [],
   "source": [
    "PDBC_INX_chart = plot_data(pdbc_df, inx_df, '2020 PDBC vs INX Percent Loss')"
   ]
  },
  {
   "cell_type": "code",
   "execution_count": null,
   "metadata": {},
   "outputs": [],
   "source": [
    "XRT_DJI_chart = plot_data(dji_df, xrt_df, '2020 XRT vs DJI Percent Loss')"
   ]
  },
  {
   "cell_type": "code",
   "execution_count": null,
   "metadata": {},
   "outputs": [],
   "source": [
    "XRT_INX_chart = plot_data(inx_df, xrt_df, '2020 XRT vs INX Percent Loss')"
   ]
  },
  {
   "cell_type": "code",
   "execution_count": null,
   "metadata": {},
   "outputs": [],
   "source": []
  }
 ],
 "metadata": {
  "kernelspec": {
   "display_name": "Python 3",
   "language": "python",
   "name": "python3"
  },
  "language_info": {
   "codemirror_mode": {
    "name": "ipython",
    "version": 3
   },
   "file_extension": ".py",
   "mimetype": "text/x-python",
   "name": "python",
   "nbconvert_exporter": "python",
   "pygments_lexer": "ipython3",
   "version": "3.7.4"
  }
 },
 "nbformat": 4,
 "nbformat_minor": 2
}
