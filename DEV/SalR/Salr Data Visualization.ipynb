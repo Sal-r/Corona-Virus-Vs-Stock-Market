{
 "cells": [
  {
   "cell_type": "code",
   "execution_count": null,
   "metadata": {},
   "outputs": [],
   "source": [
    "#import dependencies\n",
    "import pandas as pd\n",
    "import matplotlib.pyplot as plt\n",
    "import matplotlib.dates as mdates\n",
    "import numpy as np"
   ]
  },
  {
   "cell_type": "code",
   "execution_count": null,
   "metadata": {},
   "outputs": [],
   "source": [
    "#Read Data\n",
    "\n",
    "full_df = pd.read_csv(\"../../MVP/Data/full_df.csv\")\n",
    "\n",
    "index_df = full_df[full_df['category'] == 'Index']\n",
    "index_df['dates'] = index_df['dates'].astype('datetime64[ns]')\n",
    "\n",
    "dji_df = index_df.loc[index_df['stock'] == 'DJI']\n",
    "inx_df = index_df.loc[index_df['stock'] == 'INX']\n",
    "ndaq_df = index_df.loc[index_df['stock'] == 'NDAQ']\n",
    "\n",
    "carz_df = index_df.loc[index_df['stock'] == 'CARZ']\n",
    "ftxg_df = index_df.loc[index_df['stock'] == 'FTXG']\n",
    "iyz_df = index_df.loc[index_df['stock'] == 'IYZ']\n",
    "pdbc_df = index_df.loc[index_df['stock'] == 'PDBC']\n",
    "xrt_df = index_df.loc[index_df['stock'] == 'XRT']"
   ]
  }
 ],
 "metadata": {
  "kernelspec": {
   "display_name": "Python 3",
   "language": "python",
   "name": "python3"
  },
  "language_info": {
   "codemirror_mode": {
    "name": "ipython",
    "version": 3
   },
   "file_extension": ".py",
   "mimetype": "text/x-python",
   "name": "python",
   "nbconvert_exporter": "python",
   "pygments_lexer": "ipython3",
   "version": "3.7.4"
  }
 },
 "nbformat": 4,
 "nbformat_minor": 2
}
