{
 "cells": [
  {
   "cell_type": "code",
   "execution_count": 1,
   "metadata": {},
   "outputs": [],
   "source": [
    "#import dependencies\n",
    "import pandas as pd\n",
    "import matplotlib.pyplot as plt\n",
    "import matplotlib.dates as mdates\n",
    "import numpy as np"
   ]
  },
  {
   "cell_type": "code",
   "execution_count": 2,
   "metadata": {},
   "outputs": [
    {
     "ename": "NameError",
     "evalue": "name 'ftxg_df' is not defined",
     "output_type": "error",
     "traceback": [
      "\u001b[0;31m---------------------------------------------------------------------------\u001b[0m",
      "\u001b[0;31mNameError\u001b[0m                                 Traceback (most recent call last)",
      "\u001b[0;32m<ipython-input-2-2ad7ab8762e2>\u001b[0m in \u001b[0;36m<module>\u001b[0;34m\u001b[0m\n\u001b[0;32m----> 1\u001b[0;31m \u001b[0mftxg_df\u001b[0m\u001b[0;34m\u001b[0m\u001b[0;34m\u001b[0m\u001b[0m\n\u001b[0m",
      "\u001b[0;31mNameError\u001b[0m: name 'ftxg_df' is not defined"
     ]
    }
   ],
   "source": [
    "ftxg_df"
   ]
  },
  {
   "cell_type": "code",
   "execution_count": null,
   "metadata": {},
   "outputs": [],
   "source": [
    "#Read Data\n",
    "\n",
    "full_df = pd.read_csv(\"../../MVP/Data/full_df.csv\")\n",
    "\n",
    "index_df = full_df[full_df['category'] == 'Index']\n",
    "index_df['dates'] = index_df['dates'].astype('datetime64[ns]')\n",
    "\n",
    "dji_df = index_df.loc[index_df['stock'] == 'DJI']\n",
    "inx_df = index_df.loc[index_df['stock'] == 'INX']\n",
    "ndaq_df = index_df.loc[index_df['stock'] == 'NDAQ']\n",
    "\n",
    "carz_df = index_df.loc[index_df['stock'] == 'CARZ']\n",
    "ftxg_df = index_df.loc[index_df['stock'] == 'FTXG']\n",
    "iyz_df = index_df.loc[index_df['stock'] == 'IYZ']\n",
    "pdbc_df = index_df.loc[index_df['stock'] == 'PDBC']\n",
    "xrt_df = index_df.loc[index_df['stock'] == 'XRT']"
   ]
  },
  {
   "cell_type": "code",
   "execution_count": null,
   "metadata": {},
   "outputs": [],
   "source": [
    "def plot_data(ind_avg, stonk, avg_title, stonk_title):\n",
    "    \n",
    "    #sort ind avg dates\n",
    "    ind_avg = ind_avg.sort_values('dates', ascending=True)\n",
    "    \n",
    "    #filter to crash only\n",
    "    ind_avg_crash = (ind_avg['dates'] >= '2020-01-28')\n",
    "    ind_avg_crash_df = ind_avg.loc[ind_avg_crash]\n",
    "    \n",
    "    #sort stock dates\n",
    "    stonk = stonk.sort_values('dates', ascending=True)\n",
    "    \n",
    "    #filter to crash only\n",
    "    stonk_crash = (stonk['dates'] >= '2020-01-28')\n",
    "    stonk_crash_df = stonk.loc[stonk_crash]\n",
    "\n",
    "    #plot\n",
    "    fig = plt.figure(figsize=(10,5))\n",
    "    \n",
    "    ax = fig.add_subplot(211)\n",
    "    ind_avg_crash_df.plot(y='close', x='dates', kind='line', ax=ax, legend=False)\n",
    "    plt.xlabel('Date')\n",
    "    plt.ylabel('Close Price')\n",
    "    plt.title(avg_title)\n",
    "    plt.grid()\n",
    "    \n",
    "    x_avg = mdates.date2num(ind_avg_crash_df['dates'].tolist())\n",
    "    y_avg = ind_avg_crash_df['close'].tolist()\n",
    "    z_avg = np.polyfit(x_avg, y_avg, 12)\n",
    "    p_avg = np.poly1d(z_avg)\n",
    "    plt.plot(x_avg, p_avg(x_avg), 'r--')\n",
    "    \n",
    "    ax = fig.add_subplot(212)\n",
    "    stonk_crash_df.plot(y='close', x='dates', kind='line', ax=ax, legend=False)\n",
    "    plt.xlabel('Date')\n",
    "    plt.ylabel('Close Price')\n",
    "    plt.title(stonk_title)\n",
    "    plt.grid()\n",
    "    \n",
    "    x_stonk = mdates.date2num(stonk_crash_df['dates'].tolist())\n",
    "    y_stonk = stonk_crash_df['close'].tolist()\n",
    "    z_stonk = np.polyfit(x_stonk, y_stonk, 12)\n",
    "    p_stonk = np.poly1d(z_stonk)\n",
    "    plt.plot(x_stonk, p_stonk(x_stonk), 'r--')\n",
    "    \n",
    "    plt.tight_layout()\n",
    "    plt.show()\n",
    "    \n",
    "    return ax"
   ]
  },
  {
   "cell_type": "code",
   "execution_count": null,
   "metadata": {},
   "outputs": [],
   "source": [
    "CARZ_chart = plot_data(dji_df, carz_df, '2020 DJI Stock Prices', '2020 CARZ Stock Prices')"
   ]
  }
 ],
 "metadata": {
  "kernelspec": {
   "display_name": "Python 3",
   "language": "python",
   "name": "python3"
  },
  "language_info": {
   "codemirror_mode": {
    "name": "ipython",
    "version": 3
   },
   "file_extension": ".py",
   "mimetype": "text/x-python",
   "name": "python",
   "nbconvert_exporter": "python",
   "pygments_lexer": "ipython3",
   "version": "3.7.4"
  }
 },
 "nbformat": 4,
 "nbformat_minor": 2
}
