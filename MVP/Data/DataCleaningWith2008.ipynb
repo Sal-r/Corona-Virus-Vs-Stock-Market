{
 "cells": [
  {
   "cell_type": "markdown",
   "metadata": {},
   "source": [
    "## Data Collecting"
   ]
  },
  {
   "cell_type": "code",
   "execution_count": 34,
   "metadata": {},
   "outputs": [],
   "source": [
    "import pandas as pd\n",
    "from alpha_vantage.timeseries import TimeSeries\n",
    "import matplotlib.pyplot as plt\n",
    "from alpha_api import api_key\n",
    "import json\n",
    "from pprint import pprint\n",
    "\n",
    "ts = TimeSeries(key=api_key)"
   ]
  },
  {
   "cell_type": "code",
   "execution_count": 35,
   "metadata": {},
   "outputs": [],
   "source": [
    "# Initialize List with the tickers of the chosen stocks\n",
    "ent_stocks = [\"NFLX\", \"ATVI\", \"DIS\", \"AMC\", \"HAS\"] \n",
    "food_stocks = [\"KO\", \"BUD\", \"PEP\", \"GIS\", \"MCD\"]\n",
    "ess_stocks = [\"CLX\", \"PG\", \"CL\", \"CVS\", \"JNJ\"]\n",
    "\n",
    "cars_stocks = ['TSLA', 'F', 'TM', 'FUJHY', 'FCAU']\n",
    "tech_stocks = ['CSCO', 'MSFT', 'AAPL', 'GOOGL', 'FB']\n",
    "index_stocks = ['DJI', 'NDAQ', 'INX']\n",
    "\n",
    "global_stocks = [\"DAL\", \"AMZN\", \"EXPE\", \"UBER\", \"WMT\"] \n",
    "comm_stocks = [\"PEG\", \"TIF\", \"AG\", \"BP\", \"NEM\"]"
   ]
  },
  {
   "cell_type": "code",
   "execution_count": 36,
   "metadata": {},
   "outputs": [],
   "source": [
    "#Create function to call the API and get stocks in a list of tickers\n",
    "def getStockdf (stocks):\n",
    "    \n",
    "    # Create dictionary to store stocks with their data\n",
    "    stocks_dictionary_list = {}\n",
    "\n",
    "    # iterate through list and call the ts.get_daily() for each stock inside the stocks list and store list in the dictionary  \n",
    "    for stock in stocks:\n",
    "        data, meta_data = ts.get_daily(stock, outputsize=\"full\")\n",
    "        stocks_dictionary_list[stock] = data\n",
    "\n",
    "    # intialize list \n",
    "    stock_list = []\n",
    "\n",
    "    \"\"\"We have to store info in a way that retains the name, date, and stock information in a format that can be fed into the pandas dataframe without losing it's order, so we do the below\"\"\"\n",
    "    # iterate through each stocks dictionary\n",
    "    for stock, value in stocks_dictionary_list.items():\n",
    "        # Inside the stocks value is a dictionary with date as the key and the open-volume numbers as the dictionary, so iterate through the value dictionary\n",
    "        for date, info in value.items():\n",
    "            # store the date, stock, and info within the dictionary into a tuple and append to the stock_list\n",
    "            stock_list.append((date, stock, info['1. open'], info['2. high'], info['3. low'], info['4. close'], info['5. volume']))\n",
    "\n",
    "    # Store each column into a list\n",
    "    dates = [date[0] for date in stock_list]\n",
    "    stock = [stock[1] for stock in stock_list]\n",
    "    open_s = [open_s[2] for open_s in stock_list]\n",
    "    high_s = [high_s[3] for high_s in stock_list]\n",
    "    low_s = [low_s[4] for low_s in stock_list]\n",
    "    close_s = [close_s[5] for close_s in stock_list]\n",
    "    volume_s = [volume_s[6] for volume_s in stock_list]\n",
    "\n",
    "    # Create a dictionary with each key have its value as a list of their respective data\n",
    "    final_dictionary = {'dates': dates, 'stock': stock, 'open': open_s, 'close': close_s, 'high': high_s, 'low': low_s, 'close': close_s, 'volume': volume_s}\n",
    "\n",
    "    # store into dateframe\n",
    "    raw_df = pd.DataFrame(data=final_dictionary)\n",
    "    return raw_df\n"
   ]
  },
  {
   "cell_type": "code",
   "execution_count": 37,
   "metadata": {},
   "outputs": [],
   "source": [
    "# Call getStockdf Function for Entertainment\n",
    "raw_ent_df = getStockdf(ent_stocks)"
   ]
  },
  {
   "cell_type": "code",
   "execution_count": 38,
   "metadata": {},
   "outputs": [],
   "source": [
    "# Create DataFrames for individual Entertainment stocks\n",
    "raw_ent_df[\"category\"] = \"Entertainment\"\n",
    "\n",
    "raw_nflx_df = raw_ent_df.loc[raw_ent_df[\"stock\"] == \"NFLX\"]\n",
    "raw_atvi_df = raw_ent_df.loc[raw_ent_df[\"stock\"] == \"ATVI\"]\n",
    "raw_dis_df = raw_ent_df.loc[raw_ent_df[\"stock\"] == \"DIS\"]\n",
    "raw_amc_df = raw_ent_df.loc[raw_ent_df[\"stock\"] == \"AMC\"]\n",
    "raw_has_df = raw_ent_df.loc[raw_ent_df[\"stock\"] == \"HAS\"]"
   ]
  },
  {
   "cell_type": "code",
   "execution_count": 41,
   "metadata": {},
   "outputs": [],
   "source": [
    "# Call getStockdf Function for Food\n",
    "raw_food_df = getStockdf(food_stocks)"
   ]
  },
  {
   "cell_type": "code",
   "execution_count": 42,
   "metadata": {},
   "outputs": [],
   "source": [
    "# Create DataFrames for individual Food stocks\n",
    "raw_food_df[\"category\"] = \"Food\"\n",
    "\n",
    "raw_ko_df = raw_food_df.loc[raw_food_df[\"stock\"] == \"KO\"]\n",
    "raw_bud_df = raw_food_df.loc[raw_food_df[\"stock\"] == \"BUD\"]\n",
    "raw_pep_df = raw_food_df.loc[raw_food_df[\"stock\"] == \"PEP\"]\n",
    "raw_gis_df = raw_food_df.loc[raw_food_df[\"stock\"] == \"GIS\"]\n",
    "raw_mcd_df = raw_food_df.loc[raw_food_df[\"stock\"] == \"MCD\"]"
   ]
  },
  {
   "cell_type": "code",
   "execution_count": 43,
   "metadata": {},
   "outputs": [],
   "source": [
    "# Call getStockdf Function for Essentials\n",
    "raw_ess_df = getStockdf(ess_stocks)"
   ]
  },
  {
   "cell_type": "code",
   "execution_count": 44,
   "metadata": {},
   "outputs": [],
   "source": [
    "# Create DataFrames for individual Essentials stocks\n",
    "raw_ess_df[\"category\"] = \"Essentials\"\n",
    "\n",
    "raw_clx_df = raw_ess_df.loc[raw_ess_df[\"stock\"] == \"CLX\"]\n",
    "raw_pg_df = raw_ess_df.loc[raw_ess_df[\"stock\"] == \"PG\"]\n",
    "raw_cl_df = raw_ess_df.loc[raw_ess_df[\"stock\"] == \"CL\"]\n",
    "raw_cvs_df = raw_ess_df.loc[raw_ess_df[\"stock\"] == \"CVS\"]\n",
    "raw_jnj_df = raw_ess_df.loc[raw_ess_df[\"stock\"] == \"JNJ\"]"
   ]
  },
  {
   "cell_type": "code",
   "execution_count": 46,
   "metadata": {},
   "outputs": [],
   "source": [
    "# Call getStockdf Function for Cars\n",
    "raw_cars_df = getStockdf(cars_stocks)"
   ]
  },
  {
   "cell_type": "code",
   "execution_count": 47,
   "metadata": {},
   "outputs": [],
   "source": [
    "# Create DataFrames for individual Cars stocks\n",
    "raw_cars_df[\"category\"] = \"Cars\"\n",
    "\n",
    "raw_tsla_df = raw_cars_df.loc[raw_cars_df[\"stock\"] == \"TSLA\"]\n",
    "raw_f_df = raw_cars_df.loc[raw_cars_df[\"stock\"] == \"F\"]\n",
    "raw_tm_df = raw_cars_df.loc[raw_cars_df[\"stock\"] == \"TM\"]\n",
    "raw_fujhy_df = raw_cars_df.loc[raw_cars_df[\"stock\"] == \"FUJHY\"]\n",
    "raw_fcau_df = raw_cars_df.loc[raw_cars_df[\"stock\"] == \"FCAU\"]"
   ]
  },
  {
   "cell_type": "code",
   "execution_count": 49,
   "metadata": {},
   "outputs": [],
   "source": [
    "# Call getStockdf Function for Tech\n",
    "raw_tech_df = getStockdf(tech_stocks)"
   ]
  },
  {
   "cell_type": "code",
   "execution_count": 50,
   "metadata": {},
   "outputs": [],
   "source": [
    "# Create DataFrames for individual Tech stocks\n",
    "raw_tech_df[\"category\"] = \"Tech\"\n",
    "\n",
    "raw_csco_df = raw_tech_df.loc[raw_tech_df[\"stock\"] == \"CSCO\"]\n",
    "raw_msft_df = raw_tech_df.loc[raw_tech_df[\"stock\"] == \"MSFT\"]\n",
    "raw_aapl_df = raw_tech_df.loc[raw_tech_df[\"stock\"] == \"AAPL\"]\n",
    "raw_googl_df = raw_tech_df.loc[raw_tech_df[\"stock\"] == \"GOOGL\"]\n",
    "raw_fb_df = raw_tech_df.loc[raw_tech_df[\"stock\"] == \"FB\"]"
   ]
  },
  {
   "cell_type": "code",
   "execution_count": 51,
   "metadata": {},
   "outputs": [],
   "source": [
    "# Call getStockdf Function for Global\n",
    "raw_global_df = getStockdf(global_stocks)"
   ]
  },
  {
   "cell_type": "code",
   "execution_count": 52,
   "metadata": {},
   "outputs": [],
   "source": [
    "# Create DataFrames for individual Global stocks\n",
    "raw_global_df[\"category\"] = \"Global\"\n",
    "\n",
    "raw_dal_df = raw_global_df.loc[raw_global_df[\"stock\"] == \"DAL\"]\n",
    "raw_amzn_df = raw_global_df.loc[raw_global_df[\"stock\"] == \"AMZN\"]\n",
    "raw_expe_df = raw_global_df.loc[raw_global_df[\"stock\"] == \"EXPE\"]\n",
    "raw_uber_df = raw_global_df.loc[raw_global_df[\"stock\"] == \"UBER\"]\n",
    "raw_wmt_df = raw_global_df.loc[raw_global_df[\"stock\"] == \"WMT\"]"
   ]
  },
  {
   "cell_type": "code",
   "execution_count": 53,
   "metadata": {},
   "outputs": [],
   "source": [
    "# Call getStockdf Function for Commodities\n",
    "raw_comm_df = getStockdf(comm_stocks)"
   ]
  },
  {
   "cell_type": "code",
   "execution_count": 54,
   "metadata": {},
   "outputs": [],
   "source": [
    "# Create DataFrames for individual Commodities stocks\n",
    "raw_comm_df[\"category\"] = \"Commodities\"\n",
    "\n",
    "raw_peg_df = raw_comm_df.loc[raw_comm_df[\"stock\"] == \"PEG\"]\n",
    "raw_tif_df = raw_comm_df.loc[raw_comm_df[\"stock\"] == \"TIF\"]\n",
    "raw_ag_df = raw_comm_df.loc[raw_comm_df[\"stock\"] == \"AG\"]\n",
    "raw_nem_df = raw_comm_df.loc[raw_comm_df[\"stock\"] == \"NEM\"]\n",
    "raw_bp_df = raw_comm_df.loc[raw_comm_df[\"stock\"] == \"BP\"]"
   ]
  },
  {
   "cell_type": "code",
   "execution_count": 55,
   "metadata": {},
   "outputs": [],
   "source": [
    "# Call getStockdf Function for Indeces\n",
    "raw_index_df = getStockdf(index_stocks)"
   ]
  },
  {
   "cell_type": "code",
   "execution_count": 56,
   "metadata": {},
   "outputs": [],
   "source": [
    "# Create DataFrames for individual Indeces\n",
    "raw_index_df[\"category\"] = \"Index\"\n",
    "\n",
    "raw_dji_df = raw_index_df.loc[raw_index_df[\"stock\"] == \"DJI\"]\n",
    "raw_ndaq_df = raw_index_df.loc[raw_index_df[\"stock\"] == \"NDAQ\"]\n",
    "raw_inx_df = raw_index_df.loc[raw_index_df[\"stock\"] == \"INX\"]"
   ]
  },
  {
   "cell_type": "code",
   "execution_count": 57,
   "metadata": {},
   "outputs": [],
   "source": [
    "df_list = [raw_nflx_df, raw_atvi_df, raw_dis_df, raw_amc_df, raw_has_df, \n",
    "           raw_ko_df, raw_bud_df, raw_pep_df, raw_gis_df, raw_mcd_df, \n",
    "           raw_clx_df, raw_pg_df, raw_cl_df, raw_cvs_df, raw_jnj_df,\n",
    "           raw_tsla_df, raw_f_df, raw_tm_df, raw_fujhy_df, raw_fcau_df,\n",
    "           raw_csco_df, raw_msft_df, raw_aapl_df, raw_googl_df, raw_fb_df,\n",
    "           raw_dal_df, raw_amzn_df, raw_expe_df, raw_uber_df, raw_wmt_df, \n",
    "           raw_peg_df, raw_tif_df, raw_ag_df, raw_nem_df, raw_bp_df,\n",
    "           raw_dji_df, raw_ndaq_df, raw_inx_df]\n",
    "\n",
    "for x in range (len(df_list)):\n",
    "    df_list[x] = df_list[x].iloc[0:290]\n",
    "    \n",
    "full_df = pd.concat(df_list, sort=False)"
   ]
  },
  {
   "cell_type": "code",
   "execution_count": 58,
   "metadata": {},
   "outputs": [
    {
     "data": {
      "text/html": [
       "<div>\n",
       "<style scoped>\n",
       "    .dataframe tbody tr th:only-of-type {\n",
       "        vertical-align: middle;\n",
       "    }\n",
       "\n",
       "    .dataframe tbody tr th {\n",
       "        vertical-align: top;\n",
       "    }\n",
       "\n",
       "    .dataframe thead th {\n",
       "        text-align: right;\n",
       "    }\n",
       "</style>\n",
       "<table border=\"1\" class=\"dataframe\">\n",
       "  <thead>\n",
       "    <tr style=\"text-align: right;\">\n",
       "      <th></th>\n",
       "      <th>dates</th>\n",
       "      <th>stock</th>\n",
       "      <th>open</th>\n",
       "      <th>close</th>\n",
       "      <th>high</th>\n",
       "      <th>low</th>\n",
       "      <th>volume</th>\n",
       "      <th>category</th>\n",
       "    </tr>\n",
       "  </thead>\n",
       "  <tbody>\n",
       "    <tr>\n",
       "      <td>0</td>\n",
       "      <td>2020-03-26</td>\n",
       "      <td>NFLX</td>\n",
       "      <td>344.0000</td>\n",
       "      <td>362.9900</td>\n",
       "      <td>363.8400</td>\n",
       "      <td>341.7300</td>\n",
       "      <td>7191152</td>\n",
       "      <td>Entertainment</td>\n",
       "    </tr>\n",
       "    <tr>\n",
       "      <td>1</td>\n",
       "      <td>2020-03-25</td>\n",
       "      <td>NFLX</td>\n",
       "      <td>361.0200</td>\n",
       "      <td>342.3900</td>\n",
       "      <td>362.0000</td>\n",
       "      <td>339.1700</td>\n",
       "      <td>8767171</td>\n",
       "      <td>Entertainment</td>\n",
       "    </tr>\n",
       "    <tr>\n",
       "      <td>2</td>\n",
       "      <td>2020-03-24</td>\n",
       "      <td>NFLX</td>\n",
       "      <td>369.9900</td>\n",
       "      <td>357.3200</td>\n",
       "      <td>372.9300</td>\n",
       "      <td>353.0301</td>\n",
       "      <td>11638683</td>\n",
       "      <td>Entertainment</td>\n",
       "    </tr>\n",
       "    <tr>\n",
       "      <td>3</td>\n",
       "      <td>2020-03-23</td>\n",
       "      <td>NFLX</td>\n",
       "      <td>347.8900</td>\n",
       "      <td>360.2700</td>\n",
       "      <td>366.1100</td>\n",
       "      <td>340.8838</td>\n",
       "      <td>13449378</td>\n",
       "      <td>Entertainment</td>\n",
       "    </tr>\n",
       "    <tr>\n",
       "      <td>4</td>\n",
       "      <td>2020-03-20</td>\n",
       "      <td>NFLX</td>\n",
       "      <td>342.3100</td>\n",
       "      <td>332.8300</td>\n",
       "      <td>350.4900</td>\n",
       "      <td>332.0000</td>\n",
       "      <td>10853846</td>\n",
       "      <td>Entertainment</td>\n",
       "    </tr>\n",
       "    <tr>\n",
       "      <td>...</td>\n",
       "      <td>...</td>\n",
       "      <td>...</td>\n",
       "      <td>...</td>\n",
       "      <td>...</td>\n",
       "      <td>...</td>\n",
       "      <td>...</td>\n",
       "      <td>...</td>\n",
       "      <td>...</td>\n",
       "    </tr>\n",
       "    <tr>\n",
       "      <td>9841</td>\n",
       "      <td>2019-02-07</td>\n",
       "      <td>INX</td>\n",
       "      <td>2717.5300</td>\n",
       "      <td>2706.0500</td>\n",
       "      <td>2719.3201</td>\n",
       "      <td>2687.2600</td>\n",
       "      <td>4099490000</td>\n",
       "      <td>Index</td>\n",
       "    </tr>\n",
       "    <tr>\n",
       "      <td>9842</td>\n",
       "      <td>2019-02-06</td>\n",
       "      <td>INX</td>\n",
       "      <td>2735.0500</td>\n",
       "      <td>2731.6101</td>\n",
       "      <td>2738.0801</td>\n",
       "      <td>2724.1499</td>\n",
       "      <td>3472690000</td>\n",
       "      <td>Index</td>\n",
       "    </tr>\n",
       "    <tr>\n",
       "      <td>9843</td>\n",
       "      <td>2019-02-05</td>\n",
       "      <td>INX</td>\n",
       "      <td>2728.3401</td>\n",
       "      <td>2737.7000</td>\n",
       "      <td>2738.9800</td>\n",
       "      <td>2724.0300</td>\n",
       "      <td>3560430000</td>\n",
       "      <td>Index</td>\n",
       "    </tr>\n",
       "    <tr>\n",
       "      <td>9844</td>\n",
       "      <td>2019-02-04</td>\n",
       "      <td>INX</td>\n",
       "      <td>2706.4900</td>\n",
       "      <td>2724.8701</td>\n",
       "      <td>2724.9900</td>\n",
       "      <td>2698.7500</td>\n",
       "      <td>3359840000</td>\n",
       "      <td>Index</td>\n",
       "    </tr>\n",
       "    <tr>\n",
       "      <td>9845</td>\n",
       "      <td>2019-02-01</td>\n",
       "      <td>INX</td>\n",
       "      <td>2702.3201</td>\n",
       "      <td>2706.5300</td>\n",
       "      <td>2716.6599</td>\n",
       "      <td>2696.8799</td>\n",
       "      <td>3759270000</td>\n",
       "      <td>Index</td>\n",
       "    </tr>\n",
       "  </tbody>\n",
       "</table>\n",
       "<p>10952 rows × 8 columns</p>\n",
       "</div>"
      ],
      "text/plain": [
       "           dates stock       open      close       high        low  \\\n",
       "0     2020-03-26  NFLX   344.0000   362.9900   363.8400   341.7300   \n",
       "1     2020-03-25  NFLX   361.0200   342.3900   362.0000   339.1700   \n",
       "2     2020-03-24  NFLX   369.9900   357.3200   372.9300   353.0301   \n",
       "3     2020-03-23  NFLX   347.8900   360.2700   366.1100   340.8838   \n",
       "4     2020-03-20  NFLX   342.3100   332.8300   350.4900   332.0000   \n",
       "...          ...   ...        ...        ...        ...        ...   \n",
       "9841  2019-02-07   INX  2717.5300  2706.0500  2719.3201  2687.2600   \n",
       "9842  2019-02-06   INX  2735.0500  2731.6101  2738.0801  2724.1499   \n",
       "9843  2019-02-05   INX  2728.3401  2737.7000  2738.9800  2724.0300   \n",
       "9844  2019-02-04   INX  2706.4900  2724.8701  2724.9900  2698.7500   \n",
       "9845  2019-02-01   INX  2702.3201  2706.5300  2716.6599  2696.8799   \n",
       "\n",
       "          volume       category  \n",
       "0        7191152  Entertainment  \n",
       "1        8767171  Entertainment  \n",
       "2       11638683  Entertainment  \n",
       "3       13449378  Entertainment  \n",
       "4       10853846  Entertainment  \n",
       "...          ...            ...  \n",
       "9841  4099490000          Index  \n",
       "9842  3472690000          Index  \n",
       "9843  3560430000          Index  \n",
       "9844  3359840000          Index  \n",
       "9845  3759270000          Index  \n",
       "\n",
       "[10952 rows x 8 columns]"
      ]
     },
     "execution_count": 58,
     "metadata": {},
     "output_type": "execute_result"
    }
   ],
   "source": [
    "full_df"
   ]
  },
  {
   "cell_type": "code",
   "execution_count": 59,
   "metadata": {},
   "outputs": [],
   "source": [
    "full_df.to_csv('full_df.csv', encoding='utf-8', index=False, header=True)"
   ]
  },
  {
   "cell_type": "code",
   "execution_count": 60,
   "metadata": {},
   "outputs": [],
   "source": [
    "df_list_2008 = [raw_ko_df, raw_bud_df, raw_pep_df, raw_gis_df, raw_mcd_df,\n",
    "           raw_tsla_df, raw_f_df, raw_tm_df, raw_fujhy_df, raw_fcau_df,\n",
    "           raw_peg_df, raw_tif_df, raw_ag_df, raw_nem_df, raw_bp_df,\n",
    "           raw_dji_df, raw_ndaq_df, raw_inx_df]\n",
    "\n",
    "for x in range (len(df_list_2008)):\n",
    "    df_list_2008[x] = df_list_2008[x].iloc[2769:3023]\n",
    "    \n",
    "full_2008_df = pd.concat(df_list_2008, sort=False)"
   ]
  },
  {
   "cell_type": "code",
   "execution_count": 61,
   "metadata": {},
   "outputs": [],
   "source": [
    "full_2008_df.to_csv('full_2008_df.csv', encoding='utf-8', index=False, header=True)"
   ]
  },
  {
   "cell_type": "code",
   "execution_count": null,
   "metadata": {},
   "outputs": [],
   "source": []
  }
 ],
 "metadata": {
  "kernelspec": {
   "display_name": "Python 3",
   "language": "python",
   "name": "python3"
  },
  "language_info": {
   "codemirror_mode": {
    "name": "ipython",
    "version": 3
   },
   "file_extension": ".py",
   "mimetype": "text/x-python",
   "name": "python",
   "nbconvert_exporter": "python",
   "pygments_lexer": "ipython3",
   "version": "3.6.8"
  }
 },
 "nbformat": 4,
 "nbformat_minor": 2
}
