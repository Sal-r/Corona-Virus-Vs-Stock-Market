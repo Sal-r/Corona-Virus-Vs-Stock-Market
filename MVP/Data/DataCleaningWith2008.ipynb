{
 "cells": [
  {
   "cell_type": "markdown",
   "metadata": {},
   "source": [
    "## Data Collecting"
   ]
  },
  {
   "cell_type": "code",
   "execution_count": 1,
   "metadata": {},
   "outputs": [],
   "source": [
    "import pandas as pd\n",
    "from alpha_vantage.timeseries import TimeSeries\n",
    "import matplotlib.pyplot as plt\n",
    "from alpha_api import api_key\n",
    "import json\n",
    "from pprint import pprint\n",
    "\n",
    "ts = TimeSeries(key=api_key)"
   ]
  },
  {
   "cell_type": "code",
   "execution_count": 32,
   "metadata": {},
   "outputs": [],
   "source": [
    "# Initialize List with the tickers of the chosen stocks\n",
    "ent_stocks = [\"NFLX\", \"ATVI\", \"DIS\", \"AMC\", \"HAS\"] \n",
    "food_stocks = [\"KO\", \"BUD\", \"PEP\", \"GIS\", \"MCD\"]\n",
    "ess_stocks = [\"CLX\", \"PG\", \"CL\", \"CVS\", \"JNJ\"]\n",
    "\n",
    "cars_stocks = ['TSLA', 'F', 'TM', 'FUJHY', 'FCAU']\n",
    "tech_stocks = ['CSCO', 'MSFT', 'AAPL', 'GOOGL', 'FB']\n",
    "index_stocks = ['DJI', '.INX']\n",
    "\n",
    "global_stocks = [\"DAL\", \"AMZN\", \"EXPE\", \"UBER\", \"WMT\"] \n",
    "comm_stocks = [\"PEG\", \"TIF\", \"AG\", \"BP\", \"NEM\"]\n",
    "\n",
    "etf_stocks = [\"CARZ\", \"FTXG\", \"XRT\", \"PDBC\", \"IYZ\"]\n",
    "dji = [\"DJI\"]\n",
    "inx = [\".INX\"]"
   ]
  },
  {
   "cell_type": "code",
   "execution_count": 4,
   "metadata": {},
   "outputs": [],
   "source": [
    "#Create function to call the API and get stocks in a list of tickers\n",
    "def getStockdf (stocks):\n",
    "    \n",
    "    # Create dictionary to store stocks with their data\n",
    "    stocks_dictionary_list = {}\n",
    "\n",
    "    # iterate through list and call the ts.get_daily() for each stock inside the stocks list and store list in the dictionary  \n",
    "    for stock in stocks:\n",
    "        data, meta_data = ts.get_daily(stock, outputsize=\"full\")\n",
    "        stocks_dictionary_list[stock] = data\n",
    "\n",
    "    # intialize list \n",
    "    stock_list = []\n",
    "\n",
    "    \"\"\"We have to store info in a way that retains the name, date, and stock information in a format that can be fed into the pandas dataframe without losing it's order, so we do the below\"\"\"\n",
    "    # iterate through each stocks dictionary\n",
    "    for stock, value in stocks_dictionary_list.items():\n",
    "        # Inside the stocks value is a dictionary with date as the key and the open-volume numbers as the dictionary, so iterate through the value dictionary\n",
    "        for date, info in value.items():\n",
    "            # store the date, stock, and info within the dictionary into a tuple and append to the stock_list\n",
    "            stock_list.append((date, stock, info['1. open'], info['2. high'], info['3. low'], info['4. close'], info['5. volume']))\n",
    "\n",
    "    # Store each column into a list\n",
    "    dates = [date[0] for date in stock_list]\n",
    "    stock = [stock[1] for stock in stock_list]\n",
    "    open_s = [open_s[2] for open_s in stock_list]\n",
    "    high_s = [high_s[3] for high_s in stock_list]\n",
    "    low_s = [low_s[4] for low_s in stock_list]\n",
    "    close_s = [close_s[5] for close_s in stock_list]\n",
    "    volume_s = [volume_s[6] for volume_s in stock_list]\n",
    "\n",
    "    # Create a dictionary with each key have its value as a list of their respective data\n",
    "    final_dictionary = {'dates': dates, 'stock': stock, 'open': open_s, 'close': close_s, 'high': high_s, 'low': low_s, 'close': close_s, 'volume': volume_s}\n",
    "\n",
    "    # store into dateframe\n",
    "    raw_df = pd.DataFrame(data=final_dictionary)\n",
    "    return raw_df\n"
   ]
  },
  {
   "cell_type": "code",
   "execution_count": 5,
   "metadata": {},
   "outputs": [],
   "source": [
    "# Call getStockdf Function for Entertainment\n",
    "raw_ent_df = getStockdf(ent_stocks)"
   ]
  },
  {
   "cell_type": "code",
   "execution_count": 6,
   "metadata": {},
   "outputs": [],
   "source": [
    "# Create DataFrames for individual Entertainment stocks\n",
    "raw_ent_df[\"category\"] = \"Entertainment\"\n",
    "\n",
    "raw_nflx_df = raw_ent_df.loc[raw_ent_df[\"stock\"] == \"NFLX\"]\n",
    "raw_atvi_df = raw_ent_df.loc[raw_ent_df[\"stock\"] == \"ATVI\"]\n",
    "raw_dis_df = raw_ent_df.loc[raw_ent_df[\"stock\"] == \"DIS\"]\n",
    "raw_amc_df = raw_ent_df.loc[raw_ent_df[\"stock\"] == \"AMC\"]\n",
    "raw_has_df = raw_ent_df.loc[raw_ent_df[\"stock\"] == \"HAS\"]"
   ]
  },
  {
   "cell_type": "code",
   "execution_count": 16,
   "metadata": {},
   "outputs": [],
   "source": [
    "# Call getStockdf Function for Food\n",
    "raw_food_df = getStockdf(food_stocks)"
   ]
  },
  {
   "cell_type": "code",
   "execution_count": 17,
   "metadata": {},
   "outputs": [],
   "source": [
    "# Create DataFrames for individual Food stocks\n",
    "raw_food_df[\"category\"] = \"Food\"\n",
    "\n",
    "raw_ko_df = raw_food_df.loc[raw_food_df[\"stock\"] == \"KO\"]\n",
    "raw_bud_df = raw_food_df.loc[raw_food_df[\"stock\"] == \"BUD\"]\n",
    "raw_pep_df = raw_food_df.loc[raw_food_df[\"stock\"] == \"PEP\"]\n",
    "raw_gis_df = raw_food_df.loc[raw_food_df[\"stock\"] == \"GIS\"]\n",
    "raw_mcd_df = raw_food_df.loc[raw_food_df[\"stock\"] == \"MCD\"]"
   ]
  },
  {
   "cell_type": "code",
   "execution_count": 19,
   "metadata": {},
   "outputs": [],
   "source": [
    "# Call getStockdf Function for Essentials\n",
    "raw_ess_df = getStockdf(ess_stocks)"
   ]
  },
  {
   "cell_type": "code",
   "execution_count": 20,
   "metadata": {},
   "outputs": [],
   "source": [
    "# Create DataFrames for individual Essentials stocks\n",
    "raw_ess_df[\"category\"] = \"Essentials\"\n",
    "\n",
    "raw_clx_df = raw_ess_df.loc[raw_ess_df[\"stock\"] == \"CLX\"]\n",
    "raw_pg_df = raw_ess_df.loc[raw_ess_df[\"stock\"] == \"PG\"]\n",
    "raw_cl_df = raw_ess_df.loc[raw_ess_df[\"stock\"] == \"CL\"]\n",
    "raw_cvs_df = raw_ess_df.loc[raw_ess_df[\"stock\"] == \"CVS\"]\n",
    "raw_jnj_df = raw_ess_df.loc[raw_ess_df[\"stock\"] == \"JNJ\"]"
   ]
  },
  {
   "cell_type": "code",
   "execution_count": 21,
   "metadata": {},
   "outputs": [],
   "source": [
    "# Call getStockdf Function for Cars\n",
    "raw_cars_df = getStockdf(cars_stocks)"
   ]
  },
  {
   "cell_type": "code",
   "execution_count": 22,
   "metadata": {},
   "outputs": [],
   "source": [
    "# Create DataFrames for individual Cars stocks\n",
    "raw_cars_df[\"category\"] = \"Cars\"\n",
    "\n",
    "raw_tsla_df = raw_cars_df.loc[raw_cars_df[\"stock\"] == \"TSLA\"]\n",
    "raw_f_df = raw_cars_df.loc[raw_cars_df[\"stock\"] == \"F\"]\n",
    "raw_tm_df = raw_cars_df.loc[raw_cars_df[\"stock\"] == \"TM\"]\n",
    "raw_fujhy_df = raw_cars_df.loc[raw_cars_df[\"stock\"] == \"FUJHY\"]\n",
    "raw_fcau_df = raw_cars_df.loc[raw_cars_df[\"stock\"] == \"FCAU\"]"
   ]
  },
  {
   "cell_type": "code",
   "execution_count": 23,
   "metadata": {},
   "outputs": [],
   "source": [
    "# Call getStockdf Function for Tech\n",
    "raw_tech_df = getStockdf(tech_stocks)"
   ]
  },
  {
   "cell_type": "code",
   "execution_count": 24,
   "metadata": {},
   "outputs": [],
   "source": [
    "# Create DataFrames for individual Tech stocks\n",
    "raw_tech_df[\"category\"] = \"Tech\"\n",
    "\n",
    "raw_csco_df = raw_tech_df.loc[raw_tech_df[\"stock\"] == \"CSCO\"]\n",
    "raw_msft_df = raw_tech_df.loc[raw_tech_df[\"stock\"] == \"MSFT\"]\n",
    "raw_aapl_df = raw_tech_df.loc[raw_tech_df[\"stock\"] == \"AAPL\"]\n",
    "raw_googl_df = raw_tech_df.loc[raw_tech_df[\"stock\"] == \"GOOGL\"]\n",
    "raw_fb_df = raw_tech_df.loc[raw_tech_df[\"stock\"] == \"FB\"]"
   ]
  },
  {
   "cell_type": "code",
   "execution_count": 25,
   "metadata": {},
   "outputs": [],
   "source": [
    "# Call getStockdf Function for Global\n",
    "raw_global_df = getStockdf(global_stocks)"
   ]
  },
  {
   "cell_type": "code",
   "execution_count": 26,
   "metadata": {},
   "outputs": [],
   "source": [
    "# Create DataFrames for individual Global stocks\n",
    "raw_global_df[\"category\"] = \"Global\"\n",
    "\n",
    "raw_dal_df = raw_global_df.loc[raw_global_df[\"stock\"] == \"DAL\"]\n",
    "raw_amzn_df = raw_global_df.loc[raw_global_df[\"stock\"] == \"AMZN\"]\n",
    "raw_expe_df = raw_global_df.loc[raw_global_df[\"stock\"] == \"EXPE\"]\n",
    "raw_uber_df = raw_global_df.loc[raw_global_df[\"stock\"] == \"UBER\"]\n",
    "raw_wmt_df = raw_global_df.loc[raw_global_df[\"stock\"] == \"WMT\"]"
   ]
  },
  {
   "cell_type": "code",
   "execution_count": 27,
   "metadata": {},
   "outputs": [],
   "source": [
    "# Call getStockdf Function for Commodities\n",
    "raw_comm_df = getStockdf(comm_stocks)"
   ]
  },
  {
   "cell_type": "code",
   "execution_count": 28,
   "metadata": {},
   "outputs": [],
   "source": [
    "# Create DataFrames for individual Commodities stocks\n",
    "raw_comm_df[\"category\"] = \"Commodities\"\n",
    "\n",
    "raw_peg_df = raw_comm_df.loc[raw_comm_df[\"stock\"] == \"PEG\"]\n",
    "raw_tif_df = raw_comm_df.loc[raw_comm_df[\"stock\"] == \"TIF\"]\n",
    "raw_ag_df = raw_comm_df.loc[raw_comm_df[\"stock\"] == \"AG\"]\n",
    "raw_nem_df = raw_comm_df.loc[raw_comm_df[\"stock\"] == \"NEM\"]\n",
    "raw_bp_df = raw_comm_df.loc[raw_comm_df[\"stock\"] == \"BP\"]"
   ]
  },
  {
   "cell_type": "code",
   "execution_count": 29,
   "metadata": {},
   "outputs": [],
   "source": [
    "# Call getStockdf Function for ETFs\n",
    "raw_etf_df = getStockdf(etf_stocks)"
   ]
  },
  {
   "cell_type": "code",
   "execution_count": 30,
   "metadata": {},
   "outputs": [],
   "source": [
    "# Create DataFrames for individual ETFs\n",
    "raw_etf_df[\"category\"] = \"ETF\"\n",
    "\n",
    "raw_carz_df = raw_etf_df.loc[raw_etf_df[\"stock\"] == \"CARZ\"]\n",
    "raw_ftxg_df = raw_etf_df.loc[raw_etf_df[\"stock\"] == \"FTXG\"]\n",
    "raw_xrt_df = raw_etf_df.loc[raw_etf_df[\"stock\"] == \"XRT\"]\n",
    "raw_pdbc_df = raw_etf_df.loc[raw_etf_df[\"stock\"] == \"PDBC\"]\n",
    "raw_iyz_df = raw_etf_df.loc[raw_etf_df[\"stock\"] == \"IYZ\"]"
   ]
  },
  {
   "cell_type": "code",
   "execution_count": null,
   "metadata": {},
   "outputs": [],
   "source": [
    "raw_dji_df = getStockdf()"
   ]
  },
  {
   "cell_type": "code",
   "execution_count": 44,
   "metadata": {},
   "outputs": [
    {
     "ename": "ValueError",
     "evalue": "Error getting data from the api, no return was given.",
     "output_type": "error",
     "traceback": [
      "\u001b[1;31m---------------------------------------------------------------------------\u001b[0m",
      "\u001b[1;31mValueError\u001b[0m                                Traceback (most recent call last)",
      "\u001b[1;32m<ipython-input-44-8d8fd530fd92>\u001b[0m in \u001b[0;36m<module>\u001b[1;34m\u001b[0m\n\u001b[0;32m      1\u001b[0m \u001b[1;31m# Call getStockdf Function for Indeces\u001b[0m\u001b[1;33m\u001b[0m\u001b[1;33m\u001b[0m\u001b[1;33m\u001b[0m\u001b[0m\n\u001b[1;32m----> 2\u001b[1;33m \u001b[0mraw_index_df\u001b[0m \u001b[1;33m=\u001b[0m \u001b[0mgetStockdf\u001b[0m\u001b[1;33m(\u001b[0m\u001b[0mindex_stocks\u001b[0m\u001b[1;33m)\u001b[0m\u001b[1;33m\u001b[0m\u001b[1;33m\u001b[0m\u001b[0m\n\u001b[0m",
      "\u001b[1;32m<ipython-input-4-221b92ec194f>\u001b[0m in \u001b[0;36mgetStockdf\u001b[1;34m(stocks)\u001b[0m\n\u001b[0;32m      7\u001b[0m     \u001b[1;31m# iterate through list and call the ts.get_daily() for each stock inside the stocks list and store list in the dictionary\u001b[0m\u001b[1;33m\u001b[0m\u001b[1;33m\u001b[0m\u001b[1;33m\u001b[0m\u001b[0m\n\u001b[0;32m      8\u001b[0m     \u001b[1;32mfor\u001b[0m \u001b[0mstock\u001b[0m \u001b[1;32min\u001b[0m \u001b[0mstocks\u001b[0m\u001b[1;33m:\u001b[0m\u001b[1;33m\u001b[0m\u001b[1;33m\u001b[0m\u001b[0m\n\u001b[1;32m----> 9\u001b[1;33m         \u001b[0mdata\u001b[0m\u001b[1;33m,\u001b[0m \u001b[0mmeta_data\u001b[0m \u001b[1;33m=\u001b[0m \u001b[0mts\u001b[0m\u001b[1;33m.\u001b[0m\u001b[0mget_daily\u001b[0m\u001b[1;33m(\u001b[0m\u001b[0mstock\u001b[0m\u001b[1;33m,\u001b[0m \u001b[0moutputsize\u001b[0m\u001b[1;33m=\u001b[0m\u001b[1;34m\"full\"\u001b[0m\u001b[1;33m)\u001b[0m\u001b[1;33m\u001b[0m\u001b[1;33m\u001b[0m\u001b[0m\n\u001b[0m\u001b[0;32m     10\u001b[0m         \u001b[0mstocks_dictionary_list\u001b[0m\u001b[1;33m[\u001b[0m\u001b[0mstock\u001b[0m\u001b[1;33m]\u001b[0m \u001b[1;33m=\u001b[0m \u001b[0mdata\u001b[0m\u001b[1;33m\u001b[0m\u001b[1;33m\u001b[0m\u001b[0m\n\u001b[0;32m     11\u001b[0m \u001b[1;33m\u001b[0m\u001b[0m\n",
      "\u001b[1;32m~\\Anaconda3\\lib\\site-packages\\alpha_vantage\\alphavantage.py\u001b[0m in \u001b[0;36m_format_wrapper\u001b[1;34m(self, *args, **kwargs)\u001b[0m\n\u001b[0;32m    172\u001b[0m         \u001b[1;32mdef\u001b[0m \u001b[0m_format_wrapper\u001b[0m\u001b[1;33m(\u001b[0m\u001b[0mself\u001b[0m\u001b[1;33m,\u001b[0m \u001b[1;33m*\u001b[0m\u001b[0margs\u001b[0m\u001b[1;33m,\u001b[0m \u001b[1;33m**\u001b[0m\u001b[0mkwargs\u001b[0m\u001b[1;33m)\u001b[0m\u001b[1;33m:\u001b[0m\u001b[1;33m\u001b[0m\u001b[1;33m\u001b[0m\u001b[0m\n\u001b[0;32m    173\u001b[0m             call_response, data_key, meta_data_key = func(\n\u001b[1;32m--> 174\u001b[1;33m                 self, *args, **kwargs)\n\u001b[0m\u001b[0;32m    175\u001b[0m             \u001b[1;32mif\u001b[0m \u001b[1;34m'json'\u001b[0m \u001b[1;32min\u001b[0m \u001b[0mself\u001b[0m\u001b[1;33m.\u001b[0m\u001b[0moutput_format\u001b[0m\u001b[1;33m.\u001b[0m\u001b[0mlower\u001b[0m\u001b[1;33m(\u001b[0m\u001b[1;33m)\u001b[0m \u001b[1;32mor\u001b[0m \u001b[1;34m'pandas'\u001b[0m\u001b[0;31m \u001b[0m\u001b[0;31m\\\u001b[0m\u001b[1;33m\u001b[0m\u001b[1;33m\u001b[0m\u001b[0m\n\u001b[0;32m    176\u001b[0m                     \u001b[1;32min\u001b[0m \u001b[0mself\u001b[0m\u001b[1;33m.\u001b[0m\u001b[0moutput_format\u001b[0m\u001b[1;33m.\u001b[0m\u001b[0mlower\u001b[0m\u001b[1;33m(\u001b[0m\u001b[1;33m)\u001b[0m\u001b[1;33m:\u001b[0m\u001b[1;33m\u001b[0m\u001b[1;33m\u001b[0m\u001b[0m\n",
      "\u001b[1;32m~\\Anaconda3\\lib\\site-packages\\alpha_vantage\\alphavantage.py\u001b[0m in \u001b[0;36m_call_wrapper\u001b[1;34m(self, *args, **kwargs)\u001b[0m\n\u001b[0;32m    157\u001b[0m             \u001b[1;32melse\u001b[0m\u001b[1;33m:\u001b[0m\u001b[1;33m\u001b[0m\u001b[1;33m\u001b[0m\u001b[0m\n\u001b[0;32m    158\u001b[0m                 \u001b[0murl\u001b[0m \u001b[1;33m=\u001b[0m \u001b[1;34m'{}{}'\u001b[0m\u001b[1;33m.\u001b[0m\u001b[0mformat\u001b[0m\u001b[1;33m(\u001b[0m\u001b[0murl\u001b[0m\u001b[1;33m,\u001b[0m \u001b[0mapikey_parameter\u001b[0m\u001b[1;33m)\u001b[0m\u001b[1;33m\u001b[0m\u001b[1;33m\u001b[0m\u001b[0m\n\u001b[1;32m--> 159\u001b[1;33m             \u001b[1;32mreturn\u001b[0m \u001b[0mself\u001b[0m\u001b[1;33m.\u001b[0m\u001b[0m_handle_api_call\u001b[0m\u001b[1;33m(\u001b[0m\u001b[0murl\u001b[0m\u001b[1;33m)\u001b[0m\u001b[1;33m,\u001b[0m \u001b[0mdata_key\u001b[0m\u001b[1;33m,\u001b[0m \u001b[0mmeta_data_key\u001b[0m\u001b[1;33m\u001b[0m\u001b[1;33m\u001b[0m\u001b[0m\n\u001b[0m\u001b[0;32m    160\u001b[0m         \u001b[1;32mreturn\u001b[0m \u001b[0m_call_wrapper\u001b[0m\u001b[1;33m\u001b[0m\u001b[1;33m\u001b[0m\u001b[0m\n\u001b[0;32m    161\u001b[0m \u001b[1;33m\u001b[0m\u001b[0m\n",
      "\u001b[1;32m~\\Anaconda3\\lib\\site-packages\\alpha_vantage\\alphavantage.py\u001b[0m in \u001b[0;36m_handle_api_call\u001b[1;34m(self, url)\u001b[0m\n\u001b[0;32m    288\u001b[0m             \u001b[1;32mif\u001b[0m \u001b[1;32mnot\u001b[0m \u001b[0mjson_response\u001b[0m\u001b[1;33m:\u001b[0m\u001b[1;33m\u001b[0m\u001b[1;33m\u001b[0m\u001b[0m\n\u001b[0;32m    289\u001b[0m                 raise ValueError(\n\u001b[1;32m--> 290\u001b[1;33m                     'Error getting data from the api, no return was given.')\n\u001b[0m\u001b[0;32m    291\u001b[0m             \u001b[1;32melif\u001b[0m \u001b[1;34m\"Error Message\"\u001b[0m \u001b[1;32min\u001b[0m \u001b[0mjson_response\u001b[0m\u001b[1;33m:\u001b[0m\u001b[1;33m\u001b[0m\u001b[1;33m\u001b[0m\u001b[0m\n\u001b[0;32m    292\u001b[0m                 \u001b[1;32mraise\u001b[0m \u001b[0mValueError\u001b[0m\u001b[1;33m(\u001b[0m\u001b[0mjson_response\u001b[0m\u001b[1;33m[\u001b[0m\u001b[1;34m\"Error Message\"\u001b[0m\u001b[1;33m]\u001b[0m\u001b[1;33m)\u001b[0m\u001b[1;33m\u001b[0m\u001b[1;33m\u001b[0m\u001b[0m\n",
      "\u001b[1;31mValueError\u001b[0m: Error getting data from the api, no return was given."
     ]
    }
   ],
   "source": [
    "# Call getStockdf Function for Indeces\n",
    "raw_index_df = getStockdf(index_stocks)"
   ]
  },
  {
   "cell_type": "code",
   "execution_count": null,
   "metadata": {},
   "outputs": [],
   "source": [
    "# Create DataFrames for individual Indeces\n",
    "raw_index_df[\"category\"] = \"Index\"\n",
    "\n",
    "raw_dji_df = raw_index_df.loc[raw_index_df[\"stock\"] == \"DJI\"]\n",
    "raw_inx_df = raw_index_df.loc[raw_index_df[\"stock\"] == \"INX\"]"
   ]
  },
  {
   "cell_type": "code",
   "execution_count": 41,
   "metadata": {},
   "outputs": [],
   "source": [
    "df_list = [raw_nflx_df, raw_atvi_df, raw_dis_df, raw_amc_df, raw_has_df, \n",
    "           raw_ko_df, raw_bud_df, raw_pep_df, raw_gis_df, raw_mcd_df, \n",
    "           raw_clx_df, raw_pg_df, raw_cl_df, raw_cvs_df, raw_jnj_df,\n",
    "           raw_tsla_df, raw_f_df, raw_tm_df, raw_fujhy_df, raw_fcau_df,\n",
    "           raw_csco_df, raw_msft_df, raw_aapl_df, raw_googl_df, raw_fb_df,\n",
    "           raw_dal_df, raw_amzn_df, raw_expe_df, raw_uber_df, raw_wmt_df, \n",
    "           raw_peg_df, raw_tif_df, raw_ag_df, raw_nem_df, raw_bp_df,\n",
    "           raw_carz_df, raw_ftxg_df, raw_xrt_df, raw_pdbc_df, raw_iyz_df,\n",
    "           raw_dji_df, raw_inx_df]\n",
    "\n",
    "for x in range (len(df_list)):\n",
    "    df_list[x] = df_list[x].iloc[0:292]\n",
    "    \n",
    "full_df = pd.concat(df_list, sort=False)"
   ]
  },
  {
   "cell_type": "code",
   "execution_count": 42,
   "metadata": {},
   "outputs": [
    {
     "data": {
      "text/html": [
       "<div>\n",
       "<style scoped>\n",
       "    .dataframe tbody tr th:only-of-type {\n",
       "        vertical-align: middle;\n",
       "    }\n",
       "\n",
       "    .dataframe tbody tr th {\n",
       "        vertical-align: top;\n",
       "    }\n",
       "\n",
       "    .dataframe thead th {\n",
       "        text-align: right;\n",
       "    }\n",
       "</style>\n",
       "<table border=\"1\" class=\"dataframe\">\n",
       "  <thead>\n",
       "    <tr style=\"text-align: right;\">\n",
       "      <th></th>\n",
       "      <th>dates</th>\n",
       "      <th>stock</th>\n",
       "      <th>open</th>\n",
       "      <th>close</th>\n",
       "      <th>high</th>\n",
       "      <th>low</th>\n",
       "      <th>volume</th>\n",
       "      <th>category</th>\n",
       "    </tr>\n",
       "  </thead>\n",
       "  <tbody>\n",
       "    <tr>\n",
       "      <td>0</td>\n",
       "      <td>2020-03-27</td>\n",
       "      <td>NFLX</td>\n",
       "      <td>359.0900</td>\n",
       "      <td>357.1200</td>\n",
       "      <td>368.5600</td>\n",
       "      <td>353.0000</td>\n",
       "      <td>7922664</td>\n",
       "      <td>Entertainment</td>\n",
       "    </tr>\n",
       "    <tr>\n",
       "      <td>1</td>\n",
       "      <td>2020-03-26</td>\n",
       "      <td>NFLX</td>\n",
       "      <td>344.0000</td>\n",
       "      <td>362.9900</td>\n",
       "      <td>363.8400</td>\n",
       "      <td>341.7300</td>\n",
       "      <td>7235016</td>\n",
       "      <td>Entertainment</td>\n",
       "    </tr>\n",
       "    <tr>\n",
       "      <td>2</td>\n",
       "      <td>2020-03-25</td>\n",
       "      <td>NFLX</td>\n",
       "      <td>361.0200</td>\n",
       "      <td>342.3900</td>\n",
       "      <td>362.0000</td>\n",
       "      <td>339.1700</td>\n",
       "      <td>8767171</td>\n",
       "      <td>Entertainment</td>\n",
       "    </tr>\n",
       "    <tr>\n",
       "      <td>3</td>\n",
       "      <td>2020-03-24</td>\n",
       "      <td>NFLX</td>\n",
       "      <td>369.9900</td>\n",
       "      <td>357.3200</td>\n",
       "      <td>372.9300</td>\n",
       "      <td>353.0301</td>\n",
       "      <td>11638683</td>\n",
       "      <td>Entertainment</td>\n",
       "    </tr>\n",
       "    <tr>\n",
       "      <td>4</td>\n",
       "      <td>2020-03-23</td>\n",
       "      <td>NFLX</td>\n",
       "      <td>347.8900</td>\n",
       "      <td>360.2700</td>\n",
       "      <td>366.1100</td>\n",
       "      <td>340.8838</td>\n",
       "      <td>13449378</td>\n",
       "      <td>Entertainment</td>\n",
       "    </tr>\n",
       "    <tr>\n",
       "      <td>...</td>\n",
       "      <td>...</td>\n",
       "      <td>...</td>\n",
       "      <td>...</td>\n",
       "      <td>...</td>\n",
       "      <td>...</td>\n",
       "      <td>...</td>\n",
       "      <td>...</td>\n",
       "      <td>...</td>\n",
       "    </tr>\n",
       "    <tr>\n",
       "      <td>9844</td>\n",
       "      <td>2019-02-07</td>\n",
       "      <td>INX</td>\n",
       "      <td>2717.5300</td>\n",
       "      <td>2706.0500</td>\n",
       "      <td>2719.3201</td>\n",
       "      <td>2687.2600</td>\n",
       "      <td>4099490000</td>\n",
       "      <td>Index</td>\n",
       "    </tr>\n",
       "    <tr>\n",
       "      <td>9845</td>\n",
       "      <td>2019-02-06</td>\n",
       "      <td>INX</td>\n",
       "      <td>2735.0500</td>\n",
       "      <td>2731.6101</td>\n",
       "      <td>2738.0801</td>\n",
       "      <td>2724.1499</td>\n",
       "      <td>3472690000</td>\n",
       "      <td>Index</td>\n",
       "    </tr>\n",
       "    <tr>\n",
       "      <td>9846</td>\n",
       "      <td>2019-02-05</td>\n",
       "      <td>INX</td>\n",
       "      <td>2728.3401</td>\n",
       "      <td>2737.7000</td>\n",
       "      <td>2738.9800</td>\n",
       "      <td>2724.0300</td>\n",
       "      <td>3560430000</td>\n",
       "      <td>Index</td>\n",
       "    </tr>\n",
       "    <tr>\n",
       "      <td>9847</td>\n",
       "      <td>2019-02-04</td>\n",
       "      <td>INX</td>\n",
       "      <td>2706.4900</td>\n",
       "      <td>2724.8701</td>\n",
       "      <td>2724.9900</td>\n",
       "      <td>2698.7500</td>\n",
       "      <td>3359840000</td>\n",
       "      <td>Index</td>\n",
       "    </tr>\n",
       "    <tr>\n",
       "      <td>9848</td>\n",
       "      <td>2019-02-01</td>\n",
       "      <td>INX</td>\n",
       "      <td>2702.3201</td>\n",
       "      <td>2706.5300</td>\n",
       "      <td>2716.6599</td>\n",
       "      <td>2696.8799</td>\n",
       "      <td>3759270000</td>\n",
       "      <td>Index</td>\n",
       "    </tr>\n",
       "  </tbody>\n",
       "</table>\n",
       "<p>12445 rows × 8 columns</p>\n",
       "</div>"
      ],
      "text/plain": [
       "           dates stock       open      close       high        low  \\\n",
       "0     2020-03-27  NFLX   359.0900   357.1200   368.5600   353.0000   \n",
       "1     2020-03-26  NFLX   344.0000   362.9900   363.8400   341.7300   \n",
       "2     2020-03-25  NFLX   361.0200   342.3900   362.0000   339.1700   \n",
       "3     2020-03-24  NFLX   369.9900   357.3200   372.9300   353.0301   \n",
       "4     2020-03-23  NFLX   347.8900   360.2700   366.1100   340.8838   \n",
       "...          ...   ...        ...        ...        ...        ...   \n",
       "9844  2019-02-07   INX  2717.5300  2706.0500  2719.3201  2687.2600   \n",
       "9845  2019-02-06   INX  2735.0500  2731.6101  2738.0801  2724.1499   \n",
       "9846  2019-02-05   INX  2728.3401  2737.7000  2738.9800  2724.0300   \n",
       "9847  2019-02-04   INX  2706.4900  2724.8701  2724.9900  2698.7500   \n",
       "9848  2019-02-01   INX  2702.3201  2706.5300  2716.6599  2696.8799   \n",
       "\n",
       "          volume       category  \n",
       "0        7922664  Entertainment  \n",
       "1        7235016  Entertainment  \n",
       "2        8767171  Entertainment  \n",
       "3       11638683  Entertainment  \n",
       "4       13449378  Entertainment  \n",
       "...          ...            ...  \n",
       "9844  4099490000          Index  \n",
       "9845  3472690000          Index  \n",
       "9846  3560430000          Index  \n",
       "9847  3359840000          Index  \n",
       "9848  3759270000          Index  \n",
       "\n",
       "[12445 rows x 8 columns]"
      ]
     },
     "execution_count": 42,
     "metadata": {},
     "output_type": "execute_result"
    }
   ],
   "source": [
    "full_df"
   ]
  },
  {
   "cell_type": "code",
   "execution_count": 43,
   "metadata": {},
   "outputs": [],
   "source": [
    "full_df.to_csv('full_df.csv', encoding='utf-8', index=False, header=True)"
   ]
  },
  {
   "cell_type": "code",
   "execution_count": 44,
   "metadata": {},
   "outputs": [],
   "source": [
    "df_list_2008 = [raw_ko_df, raw_bud_df, raw_pep_df, raw_gis_df, raw_mcd_df,\n",
    "           raw_tsla_df, raw_f_df, raw_tm_df, raw_fujhy_df, raw_fcau_df,\n",
    "           raw_peg_df, raw_tif_df, raw_ag_df, raw_nem_df, raw_bp_df,\n",
    "           raw_dji_df, raw_ndaq_df, raw_inx_df]\n",
    "\n",
    "for x in range (len(df_list_2008)):\n",
    "    df_list_2008[x] = df_list_2008[x].iloc[2767:3021]\n",
    "    \n",
    "full_2008_df = pd.concat(df_list_2008, sort=False)"
   ]
  },
  {
   "cell_type": "code",
   "execution_count": 45,
   "metadata": {},
   "outputs": [],
   "source": [
    "full_2008_df.to_csv('full_2008_df.csv', encoding='utf-8', index=False, header=True)"
   ]
  }
 ],
 "metadata": {
  "kernelspec": {
   "display_name": "Python 3",
   "language": "python",
   "name": "python3"
  },
  "language_info": {
   "codemirror_mode": {
    "name": "ipython",
    "version": 3
   },
   "file_extension": ".py",
   "mimetype": "text/x-python",
   "name": "python",
   "nbconvert_exporter": "python",
   "pygments_lexer": "ipython3",
   "version": "3.7.4"
  }
 },
 "nbformat": 4,
 "nbformat_minor": 2
}
